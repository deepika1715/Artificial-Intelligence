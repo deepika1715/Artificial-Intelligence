{
 "cells": [
  {
   "cell_type": "code",
   "execution_count": 1,
   "id": "5464faa3",
   "metadata": {},
   "outputs": [
    {
     "name": "stdout",
     "output_type": "stream",
     "text": [
      "Uninstalling existing TensorFlow...\n",
      "\u001b[33mWARNING: Skipping tensorflow as it is not installed.\u001b[0m\u001b[33m\n",
      "\u001b[0mTensorFlow uninstalled.\n",
      "Updating core tools (pip, setuptools, wheel)...\n",
      "Requirement already satisfied: pip in ./anaconda3/lib/python3.11/site-packages (24.2)\n",
      "Requirement already satisfied: setuptools in ./anaconda3/lib/python3.11/site-packages (74.1.2)\n",
      "Requirement already satisfied: wheel in ./anaconda3/lib/python3.11/site-packages (0.44.0)\n",
      "Core tools updated.\n",
      "Installing keras_applications...\n",
      "Requirement already satisfied: keras_applications in ./anaconda3/lib/python3.11/site-packages (1.0.8)\n",
      "keras_applications installed.\n",
      "Installing keras_preprocessing...\n",
      "Requirement already satisfied: keras_preprocessing in ./anaconda3/lib/python3.11/site-packages (1.1.2)\n",
      "keras_preprocessing installed.\n",
      "Updating numpy...\n",
      "Requirement already satisfied: numpy in ./anaconda3/lib/python3.11/site-packages (2.1.1)\n",
      "numpy updated.\n",
      "Updating keras...\n",
      "Requirement already satisfied: keras in ./anaconda3/lib/python3.11/site-packages (3.5.0)\n",
      "Requirement already satisfied: absl-py in ./anaconda3/lib/python3.11/site-packages (from keras) (2.1.0)\n",
      "Requirement already satisfied: numpy in ./anaconda3/lib/python3.11/site-packages (from keras) (2.1.1)\n",
      "Requirement already satisfied: rich in ./anaconda3/lib/python3.11/site-packages (from keras) (13.8.0)\n",
      "Requirement already satisfied: namex in ./anaconda3/lib/python3.11/site-packages (from keras) (0.0.8)\n",
      "Requirement already satisfied: h5py in ./anaconda3/lib/python3.11/site-packages (from keras) (3.11.0)\n",
      "Requirement already satisfied: optree in ./anaconda3/lib/python3.11/site-packages (from keras) (0.12.1)\n",
      "Requirement already satisfied: ml-dtypes in ./anaconda3/lib/python3.11/site-packages (from keras) (0.3.2)\n",
      "Requirement already satisfied: packaging in ./anaconda3/lib/python3.11/site-packages (from keras) (23.1)\n",
      "Requirement already satisfied: typing-extensions>=4.5.0 in ./anaconda3/lib/python3.11/site-packages (from optree->keras) (4.7.1)\n",
      "Requirement already satisfied: markdown-it-py>=2.2.0 in ./anaconda3/lib/python3.11/site-packages (from rich->keras) (2.2.0)\n",
      "Requirement already satisfied: pygments<3.0.0,>=2.13.0 in ./anaconda3/lib/python3.11/site-packages (from rich->keras) (2.15.1)\n",
      "Requirement already satisfied: mdurl~=0.1 in ./anaconda3/lib/python3.11/site-packages (from markdown-it-py>=2.2.0->rich->keras) (0.1.0)\n",
      "keras updated.\n",
      "Installing required build dependencies...\n",
      "zsh:1: command not found: apt-get\n",
      "Build dependencies installed.\n",
      "Installing Bazelisk...\n",
      "  % Total    % Received % Xferd  Average Speed   Time    Time     Time  Current\n",
      "                                 Dload  Upload   Total   Spent    Left  Speed\n",
      "  0     0    0     0    0     0      0      0 --:--:-- --:--:-- --:--:--     0\n",
      "  0     0    0     0    0     0      0      0 --:--:-- --:--:-- --:--:--     0\n",
      "Warning: Failed to open the file /usr/local/bin/bazel: No such file or \n",
      "Warning: directory\n",
      "  0 5828k    0 43926    0     0  50442      0  0:01:58 --:--:--  0:01:58 50442\n",
      "curl: (23) Failure writing output to destination\n",
      "chmod: /usr/local/bin/bazel: No such file or directory\n",
      "Bazelisk installed.\n",
      "Cloning TensorFlow repository...\n",
      "Cloning into 'tensorflow'...\n",
      "remote: Enumerating objects: 1858714, done.\u001b[K\n",
      "remote: Counting objects: 100% (3894/3894), done.\u001b[K\n",
      "remote: Compressing objects: 100% (1989/1989), done.\u001b[K\n",
      "remote: Total 1858714 (delta 2541), reused 2908 (delta 1873), pack-reused 1854820 (from 1)\u001b[K\n",
      "Receiving objects: 100% (1858714/1858714), 1.01 GiB | 15.94 MiB/s, done.\n",
      "Resolving deltas: 100% (1523436/1523436), done.\n",
      "Updating files: 100% (33335/33335), done.\n",
      "/Users/deepikasharma/tensorflow\n",
      "TensorFlow repository cloned.\n",
      "Configuring TensorFlow build...\n",
      "Cannot find bazel. Please install bazel/bazelisk.\n",
      "TensorFlow build configured.\n",
      "Building TensorFlow with Bazel...\n",
      "zsh:1: command not found: bazel\n",
      "TensorFlow built.\n",
      "Installing compiled TensorFlow package...\n",
      "zsh:1: no such file or directory: ./bazel-bin/tensorflow/tools/pip_package/build_pip_package\n",
      "zsh:1: no matches found: /tmp/tensorflow_pkg/tensorflow-*.whl\n",
      "Compiled TensorFlow package installed.\n"
     ]
    }
   ],
   "source": [
    "import os\n",
    "\n",
    "# Step 1: Uninstall the existing TensorFlow\n",
    "print(\"Uninstalling existing TensorFlow...\")\n",
    "!pip uninstall -y tensorflow\n",
    "print(\"TensorFlow uninstalled.\")\n",
    "\n",
    "# Step 2: Install Required Dependencies\n",
    "print(\"Updating core tools (pip, setuptools, wheel)...\")\n",
    "!pip install -U pip setuptools wheel  # Update core tools for building and installing packages\n",
    "print(\"Core tools updated.\")\n",
    "\n",
    "print(\"Installing keras_applications...\")\n",
    "!pip install keras_applications --no-deps\n",
    "print(\"keras_applications installed.\")\n",
    "\n",
    "print(\"Installing keras_preprocessing...\")\n",
    "!pip install keras_preprocessing --no-deps\n",
    "print(\"keras_preprocessing installed.\")\n",
    "\n",
    "print(\"Updating numpy...\")\n",
    "!pip install -U numpy\n",
    "print(\"numpy updated.\")\n",
    "\n",
    "print(\"Updating keras...\")\n",
    "!pip install -U keras\n",
    "print(\"keras updated.\")\n",
    "\n",
    "print(\"Installing required build dependencies...\")\n",
    "!apt-get update && apt-get install -y python3-dev python3-pip pkg-config zip g++ zlib1g-dev unzip openjdk-11-jdk\n",
    "print(\"Build dependencies installed.\")\n",
    "\n",
    "print(\"Installing Bazelisk...\")\n",
    "!curl -L https://github.com/bazelbuild/bazelisk/releases/latest/download/bazelisk-linux-amd64 -o /usr/local/bin/bazel\n",
    "!chmod +x /usr/local/bin/bazel\n",
    "print(\"Bazelisk installed.\")\n",
    "\n",
    "# Step 3: Clone the TensorFlow GitHub Repository\n",
    "print(\"Cloning TensorFlow repository...\")\n",
    "!git clone https://github.com/tensorflow/tensorflow.git\n",
    "%cd tensorflow\n",
    "print(\"TensorFlow repository cloned.\")\n",
    "\n",
    "# Step 4: Configure the Build\n",
    "print(\"Configuring TensorFlow build...\")\n",
    "!./configure\n",
    "print(\"TensorFlow build configured.\")\n",
    "\n",
    "# Step 5: Build TensorFlow Using Bazel\n",
    "print(\"Building TensorFlow with Bazel...\")\n",
    "!bazel build --config=opt //tensorflow/tools/pip_package:build_pip_package\n",
    "print(\"TensorFlow built.\")\n",
    "\n",
    "# Step 6: Install the Compiled TensorFlow Package\n",
    "print(\"Installing compiled TensorFlow package...\")\n",
    "!./bazel-bin/tensorflow/tools/pip_package/build_pip_package /tmp/tensorflow_pkg\n",
    "!pip install /tmp/tensorflow_pkg/tensorflow-*.whl\n",
    "print(\"Compiled TensorFlow package installed.\")\n"
   ]
  },
  {
   "cell_type": "code",
   "execution_count": 3,
   "id": "8ae1b452",
   "metadata": {},
   "outputs": [
    {
     "name": "stdout",
     "output_type": "stream",
     "text": [
      "Collecting tensorflow\n",
      "  Downloading tensorflow-2.16.2-cp311-cp311-macosx_10_15_x86_64.whl.metadata (4.1 kB)\n",
      "Requirement already satisfied: absl-py>=1.0.0 in /Users/deepikasharma/anaconda3/lib/python3.11/site-packages (from tensorflow) (2.1.0)\n",
      "Requirement already satisfied: astunparse>=1.6.0 in /Users/deepikasharma/anaconda3/lib/python3.11/site-packages (from tensorflow) (1.6.3)\n",
      "Requirement already satisfied: flatbuffers>=23.5.26 in /Users/deepikasharma/anaconda3/lib/python3.11/site-packages (from tensorflow) (24.3.25)\n",
      "Requirement already satisfied: gast!=0.5.0,!=0.5.1,!=0.5.2,>=0.2.1 in /Users/deepikasharma/anaconda3/lib/python3.11/site-packages (from tensorflow) (0.6.0)\n",
      "Requirement already satisfied: google-pasta>=0.1.1 in /Users/deepikasharma/anaconda3/lib/python3.11/site-packages (from tensorflow) (0.2.0)\n",
      "Requirement already satisfied: h5py>=3.10.0 in /Users/deepikasharma/anaconda3/lib/python3.11/site-packages (from tensorflow) (3.11.0)\n",
      "Requirement already satisfied: libclang>=13.0.0 in /Users/deepikasharma/anaconda3/lib/python3.11/site-packages (from tensorflow) (18.1.1)\n",
      "Requirement already satisfied: ml-dtypes~=0.3.1 in /Users/deepikasharma/anaconda3/lib/python3.11/site-packages (from tensorflow) (0.3.2)\n",
      "Requirement already satisfied: opt-einsum>=2.3.2 in /Users/deepikasharma/anaconda3/lib/python3.11/site-packages (from tensorflow) (3.3.0)\n",
      "Requirement already satisfied: packaging in /Users/deepikasharma/anaconda3/lib/python3.11/site-packages (from tensorflow) (23.1)\n",
      "Requirement already satisfied: protobuf!=4.21.0,!=4.21.1,!=4.21.2,!=4.21.3,!=4.21.4,!=4.21.5,<5.0.0dev,>=3.20.3 in /Users/deepikasharma/anaconda3/lib/python3.11/site-packages (from tensorflow) (4.25.4)\n",
      "Requirement already satisfied: requests<3,>=2.21.0 in /Users/deepikasharma/anaconda3/lib/python3.11/site-packages (from tensorflow) (2.31.0)\n",
      "Requirement already satisfied: setuptools in /Users/deepikasharma/anaconda3/lib/python3.11/site-packages (from tensorflow) (74.1.2)\n",
      "Requirement already satisfied: six>=1.12.0 in /Users/deepikasharma/anaconda3/lib/python3.11/site-packages (from tensorflow) (1.16.0)\n",
      "Requirement already satisfied: termcolor>=1.1.0 in /Users/deepikasharma/anaconda3/lib/python3.11/site-packages (from tensorflow) (2.4.0)\n",
      "Requirement already satisfied: typing-extensions>=3.6.6 in /Users/deepikasharma/anaconda3/lib/python3.11/site-packages (from tensorflow) (4.7.1)\n",
      "Requirement already satisfied: wrapt>=1.11.0 in /Users/deepikasharma/anaconda3/lib/python3.11/site-packages (from tensorflow) (1.14.1)\n",
      "Requirement already satisfied: grpcio<2.0,>=1.24.3 in /Users/deepikasharma/anaconda3/lib/python3.11/site-packages (from tensorflow) (1.66.1)\n",
      "Requirement already satisfied: tensorboard<2.17,>=2.16 in /Users/deepikasharma/anaconda3/lib/python3.11/site-packages (from tensorflow) (2.16.2)\n",
      "Requirement already satisfied: keras>=3.0.0 in /Users/deepikasharma/anaconda3/lib/python3.11/site-packages (from tensorflow) (3.5.0)\n",
      "Requirement already satisfied: tensorflow-io-gcs-filesystem>=0.23.1 in /Users/deepikasharma/anaconda3/lib/python3.11/site-packages (from tensorflow) (0.37.1)\n",
      "Collecting numpy<2.0.0,>=1.23.5 (from tensorflow)\n",
      "  Downloading numpy-1.26.4-cp311-cp311-macosx_10_9_x86_64.whl.metadata (61 kB)\n",
      "Requirement already satisfied: wheel<1.0,>=0.23.0 in /Users/deepikasharma/anaconda3/lib/python3.11/site-packages (from astunparse>=1.6.0->tensorflow) (0.44.0)\n",
      "Requirement already satisfied: rich in /Users/deepikasharma/anaconda3/lib/python3.11/site-packages (from keras>=3.0.0->tensorflow) (13.8.0)\n",
      "Requirement already satisfied: namex in /Users/deepikasharma/anaconda3/lib/python3.11/site-packages (from keras>=3.0.0->tensorflow) (0.0.8)\n",
      "Requirement already satisfied: optree in /Users/deepikasharma/anaconda3/lib/python3.11/site-packages (from keras>=3.0.0->tensorflow) (0.12.1)\n",
      "Requirement already satisfied: charset-normalizer<4,>=2 in /Users/deepikasharma/anaconda3/lib/python3.11/site-packages (from requests<3,>=2.21.0->tensorflow) (2.0.4)\n",
      "Requirement already satisfied: idna<4,>=2.5 in /Users/deepikasharma/anaconda3/lib/python3.11/site-packages (from requests<3,>=2.21.0->tensorflow) (3.4)\n",
      "Requirement already satisfied: urllib3<3,>=1.21.1 in /Users/deepikasharma/anaconda3/lib/python3.11/site-packages (from requests<3,>=2.21.0->tensorflow) (1.26.16)\n",
      "Requirement already satisfied: certifi>=2017.4.17 in /Users/deepikasharma/anaconda3/lib/python3.11/site-packages (from requests<3,>=2.21.0->tensorflow) (2023.7.22)\n",
      "Requirement already satisfied: markdown>=2.6.8 in /Users/deepikasharma/anaconda3/lib/python3.11/site-packages (from tensorboard<2.17,>=2.16->tensorflow) (3.4.1)\n",
      "Requirement already satisfied: tensorboard-data-server<0.8.0,>=0.7.0 in /Users/deepikasharma/anaconda3/lib/python3.11/site-packages (from tensorboard<2.17,>=2.16->tensorflow) (0.7.2)\n",
      "Requirement already satisfied: werkzeug>=1.0.1 in /Users/deepikasharma/anaconda3/lib/python3.11/site-packages (from tensorboard<2.17,>=2.16->tensorflow) (2.2.3)\n",
      "Requirement already satisfied: MarkupSafe>=2.1.1 in /Users/deepikasharma/anaconda3/lib/python3.11/site-packages (from werkzeug>=1.0.1->tensorboard<2.17,>=2.16->tensorflow) (2.1.1)\n",
      "Requirement already satisfied: markdown-it-py>=2.2.0 in /Users/deepikasharma/anaconda3/lib/python3.11/site-packages (from rich->keras>=3.0.0->tensorflow) (2.2.0)\n",
      "Requirement already satisfied: pygments<3.0.0,>=2.13.0 in /Users/deepikasharma/anaconda3/lib/python3.11/site-packages (from rich->keras>=3.0.0->tensorflow) (2.15.1)\n",
      "Requirement already satisfied: mdurl~=0.1 in /Users/deepikasharma/anaconda3/lib/python3.11/site-packages (from markdown-it-py>=2.2.0->rich->keras>=3.0.0->tensorflow) (0.1.0)\n",
      "Downloading tensorflow-2.16.2-cp311-cp311-macosx_10_15_x86_64.whl (259.6 MB)\n",
      "\u001b[2K   \u001b[90m━━━━━━━━━━━━━━━━━━━━━━━━━━━━━━━━━━━━━━━━\u001b[0m \u001b[32m259.6/259.6 MB\u001b[0m \u001b[31m25.6 MB/s\u001b[0m eta \u001b[36m0:00:00\u001b[0m00:01\u001b[0m00:01\u001b[0m\n",
      "\u001b[?25hDownloading numpy-1.26.4-cp311-cp311-macosx_10_9_x86_64.whl (20.6 MB)\n",
      "\u001b[2K   \u001b[90m━━━━━━━━━━━━━━━━━━━━━━━━━━━━━━━━━━━━━━━━\u001b[0m \u001b[32m20.6/20.6 MB\u001b[0m \u001b[31m28.8 MB/s\u001b[0m eta \u001b[36m0:00:00\u001b[0ma \u001b[36m0:00:01\u001b[0m\n",
      "\u001b[?25hInstalling collected packages: numpy, tensorflow\n",
      "  Attempting uninstall: numpy\n",
      "    Found existing installation: numpy 2.1.1\n",
      "    Uninstalling numpy-2.1.1:\n",
      "      Successfully uninstalled numpy-2.1.1\n",
      "\u001b[31mERROR: pip's dependency resolver does not currently take into account all the packages that are installed. This behaviour is the source of the following dependency conflicts.\n",
      "tables 3.8.0 requires blosc2~=2.0.0, which is not installed.\n",
      "tables 3.8.0 requires cython>=0.29.21, which is not installed.\n",
      "gensim 4.3.0 requires FuzzyTM>=0.4.0, which is not installed.\n",
      "numba 0.57.0 requires numpy<1.25,>=1.21, but you have numpy 1.26.4 which is incompatible.\u001b[0m\u001b[31m\n",
      "\u001b[0mSuccessfully installed numpy-1.26.4 tensorflow-2.16.2\n",
      "Requirement already satisfied: keras in /Users/deepikasharma/anaconda3/lib/python3.11/site-packages (3.5.0)\n",
      "Requirement already satisfied: absl-py in /Users/deepikasharma/anaconda3/lib/python3.11/site-packages (from keras) (2.1.0)\n",
      "Requirement already satisfied: numpy in /Users/deepikasharma/anaconda3/lib/python3.11/site-packages (from keras) (1.26.4)\n",
      "Requirement already satisfied: rich in /Users/deepikasharma/anaconda3/lib/python3.11/site-packages (from keras) (13.8.0)\n",
      "Requirement already satisfied: namex in /Users/deepikasharma/anaconda3/lib/python3.11/site-packages (from keras) (0.0.8)\n",
      "Requirement already satisfied: h5py in /Users/deepikasharma/anaconda3/lib/python3.11/site-packages (from keras) (3.11.0)\n",
      "Requirement already satisfied: optree in /Users/deepikasharma/anaconda3/lib/python3.11/site-packages (from keras) (0.12.1)\n",
      "Requirement already satisfied: ml-dtypes in /Users/deepikasharma/anaconda3/lib/python3.11/site-packages (from keras) (0.3.2)\n",
      "Requirement already satisfied: packaging in /Users/deepikasharma/anaconda3/lib/python3.11/site-packages (from keras) (23.1)\n",
      "Requirement already satisfied: typing-extensions>=4.5.0 in /Users/deepikasharma/anaconda3/lib/python3.11/site-packages (from optree->keras) (4.7.1)\n",
      "Requirement already satisfied: markdown-it-py>=2.2.0 in /Users/deepikasharma/anaconda3/lib/python3.11/site-packages (from rich->keras) (2.2.0)\n",
      "Requirement already satisfied: pygments<3.0.0,>=2.13.0 in /Users/deepikasharma/anaconda3/lib/python3.11/site-packages (from rich->keras) (2.15.1)\n",
      "Requirement already satisfied: mdurl~=0.1 in /Users/deepikasharma/anaconda3/lib/python3.11/site-packages (from markdown-it-py>=2.2.0->rich->keras) (0.1.0)\n",
      "Requirement already satisfied: efficientnet in /Users/deepikasharma/anaconda3/lib/python3.11/site-packages (1.1.1)\n",
      "Requirement already satisfied: keras-applications<=1.0.8,>=1.0.7 in /Users/deepikasharma/anaconda3/lib/python3.11/site-packages (from efficientnet) (1.0.8)\n",
      "Requirement already satisfied: scikit-image in /Users/deepikasharma/anaconda3/lib/python3.11/site-packages (from efficientnet) (0.20.0)\n",
      "Requirement already satisfied: numpy>=1.9.1 in /Users/deepikasharma/anaconda3/lib/python3.11/site-packages (from keras-applications<=1.0.8,>=1.0.7->efficientnet) (1.26.4)\n",
      "Requirement already satisfied: h5py in /Users/deepikasharma/anaconda3/lib/python3.11/site-packages (from keras-applications<=1.0.8,>=1.0.7->efficientnet) (3.11.0)\n",
      "Requirement already satisfied: scipy>=1.8 in /Users/deepikasharma/anaconda3/lib/python3.11/site-packages (from scikit-image->efficientnet) (1.11.1)\n",
      "Requirement already satisfied: networkx>=2.8 in /Users/deepikasharma/anaconda3/lib/python3.11/site-packages (from scikit-image->efficientnet) (3.1)\n",
      "Requirement already satisfied: pillow>=9.0.1 in /Users/deepikasharma/anaconda3/lib/python3.11/site-packages (from scikit-image->efficientnet) (9.4.0)\n",
      "Requirement already satisfied: imageio>=2.4.1 in /Users/deepikasharma/anaconda3/lib/python3.11/site-packages (from scikit-image->efficientnet) (2.31.1)\n",
      "Requirement already satisfied: tifffile>=2019.7.26 in /Users/deepikasharma/anaconda3/lib/python3.11/site-packages (from scikit-image->efficientnet) (2023.4.12)\n",
      "Requirement already satisfied: PyWavelets>=1.1.1 in /Users/deepikasharma/anaconda3/lib/python3.11/site-packages (from scikit-image->efficientnet) (1.4.1)\n",
      "Requirement already satisfied: packaging>=20.0 in /Users/deepikasharma/anaconda3/lib/python3.11/site-packages (from scikit-image->efficientnet) (23.1)\n",
      "Requirement already satisfied: lazy_loader>=0.1 in /Users/deepikasharma/anaconda3/lib/python3.11/site-packages (from scikit-image->efficientnet) (0.2)\n",
      "Requirement already satisfied: kaggle in /Users/deepikasharma/anaconda3/lib/python3.11/site-packages (1.6.17)\n",
      "Requirement already satisfied: six>=1.10 in /Users/deepikasharma/anaconda3/lib/python3.11/site-packages (from kaggle) (1.16.0)\n",
      "Requirement already satisfied: certifi>=2023.7.22 in /Users/deepikasharma/anaconda3/lib/python3.11/site-packages (from kaggle) (2023.7.22)\n",
      "Requirement already satisfied: python-dateutil in /Users/deepikasharma/anaconda3/lib/python3.11/site-packages (from kaggle) (2.8.2)\n",
      "Requirement already satisfied: requests in /Users/deepikasharma/anaconda3/lib/python3.11/site-packages (from kaggle) (2.31.0)\n",
      "Requirement already satisfied: tqdm in /Users/deepikasharma/anaconda3/lib/python3.11/site-packages (from kaggle) (4.65.0)\n",
      "Requirement already satisfied: python-slugify in /Users/deepikasharma/anaconda3/lib/python3.11/site-packages (from kaggle) (5.0.2)\n",
      "Requirement already satisfied: urllib3 in /Users/deepikasharma/anaconda3/lib/python3.11/site-packages (from kaggle) (1.26.16)\n",
      "Requirement already satisfied: bleach in /Users/deepikasharma/anaconda3/lib/python3.11/site-packages (from kaggle) (4.1.0)\n",
      "Requirement already satisfied: packaging in /Users/deepikasharma/anaconda3/lib/python3.11/site-packages (from bleach->kaggle) (23.1)\n",
      "Requirement already satisfied: webencodings in /Users/deepikasharma/anaconda3/lib/python3.11/site-packages (from bleach->kaggle) (0.5.1)\n",
      "Requirement already satisfied: text-unidecode>=1.3 in /Users/deepikasharma/anaconda3/lib/python3.11/site-packages (from python-slugify->kaggle) (1.3)\n",
      "Requirement already satisfied: charset-normalizer<4,>=2 in /Users/deepikasharma/anaconda3/lib/python3.11/site-packages (from requests->kaggle) (2.0.4)\n",
      "Requirement already satisfied: idna<4,>=2.5 in /Users/deepikasharma/anaconda3/lib/python3.11/site-packages (from requests->kaggle) (3.4)\n"
     ]
    }
   ],
   "source": [
    "!pip install tensorflow\n",
    "!pip install keras\n",
    "!pip install efficientnet\n",
    "!pip install kaggle"
   ]
  },
  {
   "cell_type": "code",
   "execution_count": 4,
   "id": "86955247",
   "metadata": {},
   "outputs": [
    {
     "name": "stdout",
     "output_type": "stream",
     "text": [
      "Requirement already satisfied: ipywidgets in /Users/deepikasharma/anaconda3/lib/python3.11/site-packages (8.0.4)\n",
      "Requirement already satisfied: ipykernel>=4.5.1 in /Users/deepikasharma/anaconda3/lib/python3.11/site-packages (from ipywidgets) (6.25.0)\n",
      "Requirement already satisfied: ipython>=6.1.0 in /Users/deepikasharma/anaconda3/lib/python3.11/site-packages (from ipywidgets) (8.15.0)\n",
      "Requirement already satisfied: traitlets>=4.3.1 in /Users/deepikasharma/anaconda3/lib/python3.11/site-packages (from ipywidgets) (5.7.1)\n",
      "Requirement already satisfied: widgetsnbextension~=4.0 in /Users/deepikasharma/anaconda3/lib/python3.11/site-packages (from ipywidgets) (4.0.5)\n",
      "Requirement already satisfied: jupyterlab-widgets~=3.0 in /Users/deepikasharma/anaconda3/lib/python3.11/site-packages (from ipywidgets) (3.0.5)\n",
      "Requirement already satisfied: appnope in /Users/deepikasharma/anaconda3/lib/python3.11/site-packages (from ipykernel>=4.5.1->ipywidgets) (0.1.2)\n",
      "Requirement already satisfied: comm>=0.1.1 in /Users/deepikasharma/anaconda3/lib/python3.11/site-packages (from ipykernel>=4.5.1->ipywidgets) (0.1.2)\n",
      "Requirement already satisfied: debugpy>=1.6.5 in /Users/deepikasharma/anaconda3/lib/python3.11/site-packages (from ipykernel>=4.5.1->ipywidgets) (1.6.7)\n",
      "Requirement already satisfied: jupyter-client>=6.1.12 in /Users/deepikasharma/anaconda3/lib/python3.11/site-packages (from ipykernel>=4.5.1->ipywidgets) (7.4.9)\n",
      "Requirement already satisfied: jupyter-core!=5.0.*,>=4.12 in /Users/deepikasharma/anaconda3/lib/python3.11/site-packages (from ipykernel>=4.5.1->ipywidgets) (5.3.0)\n",
      "Requirement already satisfied: matplotlib-inline>=0.1 in /Users/deepikasharma/anaconda3/lib/python3.11/site-packages (from ipykernel>=4.5.1->ipywidgets) (0.1.6)\n",
      "Requirement already satisfied: nest-asyncio in /Users/deepikasharma/anaconda3/lib/python3.11/site-packages (from ipykernel>=4.5.1->ipywidgets) (1.5.6)\n",
      "Requirement already satisfied: packaging in /Users/deepikasharma/anaconda3/lib/python3.11/site-packages (from ipykernel>=4.5.1->ipywidgets) (23.1)\n",
      "Requirement already satisfied: psutil in /Users/deepikasharma/anaconda3/lib/python3.11/site-packages (from ipykernel>=4.5.1->ipywidgets) (5.9.0)\n",
      "Requirement already satisfied: pyzmq>=20 in /Users/deepikasharma/anaconda3/lib/python3.11/site-packages (from ipykernel>=4.5.1->ipywidgets) (23.2.0)\n",
      "Requirement already satisfied: tornado>=6.1 in /Users/deepikasharma/anaconda3/lib/python3.11/site-packages (from ipykernel>=4.5.1->ipywidgets) (6.3.2)\n",
      "Requirement already satisfied: backcall in /Users/deepikasharma/anaconda3/lib/python3.11/site-packages (from ipython>=6.1.0->ipywidgets) (0.2.0)\n",
      "Requirement already satisfied: decorator in /Users/deepikasharma/anaconda3/lib/python3.11/site-packages (from ipython>=6.1.0->ipywidgets) (5.1.1)\n",
      "Requirement already satisfied: jedi>=0.16 in /Users/deepikasharma/anaconda3/lib/python3.11/site-packages (from ipython>=6.1.0->ipywidgets) (0.18.1)\n",
      "Requirement already satisfied: pickleshare in /Users/deepikasharma/anaconda3/lib/python3.11/site-packages (from ipython>=6.1.0->ipywidgets) (0.7.5)\n",
      "Requirement already satisfied: prompt-toolkit!=3.0.37,<3.1.0,>=3.0.30 in /Users/deepikasharma/anaconda3/lib/python3.11/site-packages (from ipython>=6.1.0->ipywidgets) (3.0.36)\n",
      "Requirement already satisfied: pygments>=2.4.0 in /Users/deepikasharma/anaconda3/lib/python3.11/site-packages (from ipython>=6.1.0->ipywidgets) (2.15.1)\n",
      "Requirement already satisfied: stack-data in /Users/deepikasharma/anaconda3/lib/python3.11/site-packages (from ipython>=6.1.0->ipywidgets) (0.2.0)\n",
      "Requirement already satisfied: pexpect>4.3 in /Users/deepikasharma/anaconda3/lib/python3.11/site-packages (from ipython>=6.1.0->ipywidgets) (4.8.0)\n",
      "Requirement already satisfied: parso<0.9.0,>=0.8.0 in /Users/deepikasharma/anaconda3/lib/python3.11/site-packages (from jedi>=0.16->ipython>=6.1.0->ipywidgets) (0.8.3)\n",
      "Requirement already satisfied: entrypoints in /Users/deepikasharma/anaconda3/lib/python3.11/site-packages (from jupyter-client>=6.1.12->ipykernel>=4.5.1->ipywidgets) (0.4)\n",
      "Requirement already satisfied: python-dateutil>=2.8.2 in /Users/deepikasharma/anaconda3/lib/python3.11/site-packages (from jupyter-client>=6.1.12->ipykernel>=4.5.1->ipywidgets) (2.8.2)\n",
      "Requirement already satisfied: platformdirs>=2.5 in /Users/deepikasharma/anaconda3/lib/python3.11/site-packages (from jupyter-core!=5.0.*,>=4.12->ipykernel>=4.5.1->ipywidgets) (3.10.0)\n",
      "Requirement already satisfied: ptyprocess>=0.5 in /Users/deepikasharma/anaconda3/lib/python3.11/site-packages (from pexpect>4.3->ipython>=6.1.0->ipywidgets) (0.7.0)\n",
      "Requirement already satisfied: wcwidth in /Users/deepikasharma/anaconda3/lib/python3.11/site-packages (from prompt-toolkit!=3.0.37,<3.1.0,>=3.0.30->ipython>=6.1.0->ipywidgets) (0.2.5)\n",
      "Requirement already satisfied: executing in /Users/deepikasharma/anaconda3/lib/python3.11/site-packages (from stack-data->ipython>=6.1.0->ipywidgets) (0.8.3)\n",
      "Requirement already satisfied: asttokens in /Users/deepikasharma/anaconda3/lib/python3.11/site-packages (from stack-data->ipython>=6.1.0->ipywidgets) (2.0.5)\n",
      "Requirement already satisfied: pure-eval in /Users/deepikasharma/anaconda3/lib/python3.11/site-packages (from stack-data->ipython>=6.1.0->ipywidgets) (0.2.2)\n",
      "Requirement already satisfied: six>=1.5 in /Users/deepikasharma/anaconda3/lib/python3.11/site-packages (from python-dateutil>=2.8.2->jupyter-client>=6.1.12->ipykernel>=4.5.1->ipywidgets) (1.16.0)\n",
      "Note: you may need to restart the kernel to use updated packages.\n"
     ]
    }
   ],
   "source": [
    "pip install ipywidgets\n"
   ]
  },
  {
   "cell_type": "code",
   "execution_count": 1,
   "id": "515de032",
   "metadata": {},
   "outputs": [
    {
     "data": {
      "application/vnd.jupyter.widget-view+json": {
       "model_id": "d045822dba924ed288b00a68333cf66f",
       "version_major": 2,
       "version_minor": 0
      },
      "text/plain": [
       "FileUpload(value=(), description='Upload')"
      ]
     },
     "metadata": {},
     "output_type": "display_data"
    },
    {
     "name": "stdout",
     "output_type": "stream",
     "text": [
      "Successfully uploaded kaggle.json\n"
     ]
    }
   ],
   "source": [
    "from ipywidgets import FileUpload\n",
    "from IPython.display import display\n",
    "\n",
    "# Create an upload widget\n",
    "upload_widget = FileUpload()\n",
    "\n",
    "# Display the widget\n",
    "display(upload_widget)\n",
    "\n",
    "# Function to handle the file upload\n",
    "def handle_upload(change):\n",
    "    # Check if the value is a dictionary-like object\n",
    "    if isinstance(upload_widget.value, dict):\n",
    "        for filename, file_info in upload_widget.value.items():\n",
    "            # Extract the file content\n",
    "            content = file_info['content']  # Access the file content\n",
    "            \n",
    "            # Write the content to a new file in the current directory\n",
    "            with open(filename, 'wb') as f:\n",
    "                f.write(content)\n",
    "            print(f\"Successfully uploaded {filename}\")\n",
    "\n",
    "    # Check if the value is a tuple-like object\n",
    "    elif isinstance(upload_widget.value, tuple):\n",
    "        for file_info in upload_widget.value:\n",
    "            # Determine the structure of the file_info object\n",
    "            # Check if it's a dictionary-like object itself\n",
    "            if isinstance(file_info, dict):\n",
    "                filename = file_info.get('name', 'uploaded_file')  # Get filename or default name\n",
    "                content = file_info.get('content', b'')  # Get content or default to empty bytes\n",
    "\n",
    "                # Write the content to a new file in the current directory\n",
    "                with open(filename, 'wb') as f:\n",
    "                    f.write(content)\n",
    "                print(f\"Successfully uploaded {filename}\")\n",
    "            else:\n",
    "                print(\"Unsupported file info format detected. Cannot process this file.\")\n",
    "                continue\n",
    "\n",
    "# Observe the widget for file upload\n",
    "upload_widget.observe(handle_upload, names='value')\n",
    "\n",
    "\n",
    "\n",
    "\n"
   ]
  },
  {
   "cell_type": "code",
   "execution_count": 2,
   "id": "3106fa71",
   "metadata": {},
   "outputs": [],
   "source": [
    "import os\n",
    "import shutil\n",
    "\n",
    "# Create the .kaggle directory in the user's home directory\n",
    "os.makedirs(os.path.expanduser('~/.kaggle'), exist_ok=True)\n",
    "\n",
    "# Move the kaggle.json file to the .kaggle directory\n",
    "shutil.move('kaggle.json', os.path.expanduser('~/.kaggle/kaggle.json'))\n",
    "\n",
    "# Set the correct permissions for the file (read and write for the user only)\n",
    "os.chmod(os.path.expanduser('~/.kaggle/kaggle.json'), 0o600)\n",
    "\n"
   ]
  },
  {
   "cell_type": "code",
   "execution_count": 3,
   "id": "8de2f9cb",
   "metadata": {},
   "outputs": [
    {
     "name": "stdout",
     "output_type": "stream",
     "text": [
      "Requirement already satisfied: kaggle in ./anaconda3/lib/python3.11/site-packages (1.6.17)\n",
      "Requirement already satisfied: six>=1.10 in ./anaconda3/lib/python3.11/site-packages (from kaggle) (1.16.0)\n",
      "Requirement already satisfied: certifi>=2023.7.22 in ./anaconda3/lib/python3.11/site-packages (from kaggle) (2023.7.22)\n",
      "Requirement already satisfied: python-dateutil in ./anaconda3/lib/python3.11/site-packages (from kaggle) (2.8.2)\n",
      "Requirement already satisfied: requests in ./anaconda3/lib/python3.11/site-packages (from kaggle) (2.31.0)\n",
      "Requirement already satisfied: tqdm in ./anaconda3/lib/python3.11/site-packages (from kaggle) (4.65.0)\n",
      "Requirement already satisfied: python-slugify in ./anaconda3/lib/python3.11/site-packages (from kaggle) (5.0.2)\n",
      "Requirement already satisfied: urllib3 in ./anaconda3/lib/python3.11/site-packages (from kaggle) (1.26.16)\n",
      "Requirement already satisfied: bleach in ./anaconda3/lib/python3.11/site-packages (from kaggle) (4.1.0)\n",
      "Requirement already satisfied: packaging in ./anaconda3/lib/python3.11/site-packages (from bleach->kaggle) (23.1)\n",
      "Requirement already satisfied: webencodings in ./anaconda3/lib/python3.11/site-packages (from bleach->kaggle) (0.5.1)\n",
      "Requirement already satisfied: text-unidecode>=1.3 in ./anaconda3/lib/python3.11/site-packages (from python-slugify->kaggle) (1.3)\n",
      "Requirement already satisfied: charset-normalizer<4,>=2 in ./anaconda3/lib/python3.11/site-packages (from requests->kaggle) (2.0.4)\n",
      "Requirement already satisfied: idna<4,>=2.5 in ./anaconda3/lib/python3.11/site-packages (from requests->kaggle) (3.4)\n",
      "Note: you may need to restart the kernel to use updated packages.\n"
     ]
    }
   ],
   "source": [
    "pip install kaggle\n"
   ]
  },
  {
   "cell_type": "code",
   "execution_count": 4,
   "id": "18e6eab4",
   "metadata": {},
   "outputs": [
    {
     "name": "stdout",
     "output_type": "stream",
     "text": [
      "deepika1715\n",
      "9e13b3074137a4ad61588a8112ef7c5d\n"
     ]
    }
   ],
   "source": [
    "import kaggle\n",
    "print(kaggle.api.get_config_value('username'))\n",
    "print(kaggle.api.get_config_value('key'))\n",
    "\n"
   ]
  },
  {
   "cell_type": "code",
   "execution_count": 5,
   "id": "ef2a4545",
   "metadata": {},
   "outputs": [
    {
     "name": "stdout",
     "output_type": "stream",
     "text": [
      "deepfake-detection-challenge.zip: Skipping, found more recently modified local copy (use --force to force download)\r\n"
     ]
    }
   ],
   "source": [
    "!kaggle competitions download -c deepfake-detection-challenge"
   ]
  },
  {
   "cell_type": "code",
   "execution_count": 6,
   "id": "13defbaa",
   "metadata": {},
   "outputs": [
    {
     "name": "stdout",
     "output_type": "stream",
     "text": [
      "Archive:  deepfake-detection-challenge.zip\n",
      "replace DFDC/sample_submission.csv? [y]es, [n]o, [A]ll, [N]one, [r]ename: ^C\n"
     ]
    }
   ],
   "source": [
    "!unzip deepfake-detection-challenge.zip -d DFDC/"
   ]
  },
  {
   "cell_type": "code",
   "execution_count": 7,
   "id": "e8f802d9",
   "metadata": {},
   "outputs": [
    {
     "name": "stdout",
     "output_type": "stream",
     "text": [
      "Training and validation data split completed.\n"
     ]
    }
   ],
   "source": [
    "#code for splitting data into 80% training and 20% validation\n",
    "import os # Import the os module\n",
    "import json # Import the json module\n",
    "import shutil\n",
    "from sklearn.model_selection import train_test_split\n",
    "\n",
    "# Paths to dataset directories\n",
    "data_dir = \"DFDC/train_sample_videos\"\n",
    "train_dir = \"DFDC/train_videos\"\n",
    "val_dir = \"DFDC/validation_videos\"\n",
    "\n",
    "# Load the metadata file that contains labels\n",
    "metadata_path = os.path.join(data_dir, 'metadata.json')\n",
    "with open(metadata_path, 'r') as f:\n",
    "    metadata = json.load(f)\n",
    "\n",
    "# Create lists for real and fake videos based on metadata\n",
    "real_videos = [video for video, info in metadata.items() if info['label'] == 'REAL']\n",
    "fake_videos = [video for video, info in metadata.items() if info['label'] == 'FAKE']\n",
    "\n",
    "# Split the videos into train and validation sets\n",
    "train_real, val_real = train_test_split(real_videos, test_size=0.2, random_state=42)\n",
    "train_fake, val_fake = train_test_split(fake_videos, test_size=0.2, random_state=42)\n",
    "\n",
    "# Function to move files\n",
    "def move_files(video_list, dest_dir):\n",
    "    os.makedirs(dest_dir, exist_ok=True)\n",
    "    for video in video_list:\n",
    "        src_path = os.path.join(data_dir, video)\n",
    "        dest_path = os.path.join(dest_dir, video)\n",
    "        if os.path.exists(src_path):\n",
    "            shutil.copy(src_path, dest_path)\n",
    "\n",
    "# Create real and fake folders inside train and validation directories\n",
    "os.makedirs(os.path.join(train_dir, 'real'), exist_ok=True)\n",
    "os.makedirs(os.path.join(train_dir, 'fake'), exist_ok=True)\n",
    "os.makedirs(os.path.join(val_dir, 'real'), exist_ok=True)\n",
    "os.makedirs(os.path.join(val_dir, 'fake'), exist_ok=True)\n",
    "\n",
    "# Move the files\n",
    "move_files(train_real, os.path.join(train_dir, 'real'))\n",
    "move_files(train_fake, os.path.join(train_dir, 'fake'))\n",
    "move_files(val_real, os.path.join(val_dir, 'real'))\n",
    "move_files(val_fake, os.path.join(val_dir, 'fake'))\n",
    "\n",
    "print(\"Training and validation data split completed.\")"
   ]
  },
  {
   "cell_type": "code",
   "execution_count": 8,
   "id": "29fd2f49",
   "metadata": {},
   "outputs": [
    {
     "name": "stdout",
     "output_type": "stream",
     "text": [
      "Train frames extraction completed.\n"
     ]
    }
   ],
   "source": [
    "# extracting frames from videos for training data\n",
    "import cv2\n",
    "\n",
    "# Paths to the 'real' and 'fake' directories containing videos\n",
    "train_real_video_dir = 'DFDC/train_videos/real'\n",
    "train_fake_video_dir = 'DFDC/train_videos/fake'\n",
    "\n",
    "# Paths to save the extracted frames\n",
    "train_real_frames_dir = 'DFDC/train_frames/real'\n",
    "train_fake_frames_dir = 'DFDC/train_frames/fake'\n",
    "\n",
    "# Function to extract frames from a video and save them to a directory\n",
    "def extract_frames(video_path, output_dir, frame_rate=1):\n",
    "    # Create the output directory if it doesn't exist\n",
    "    os.makedirs(output_dir, exist_ok=True)\n",
    "\n",
    "    # Open the video file\n",
    "    video_cap = cv2.VideoCapture(video_path)\n",
    "    count = 0\n",
    "    success = True\n",
    "    fps = video_cap.get(cv2.CAP_PROP_FPS)\n",
    "    interval = int(fps // frame_rate)  # Calculate interval to capture frames\n",
    "\n",
    "    while success:\n",
    "        success, frame = video_cap.read()\n",
    "        if success and count % interval == 0:\n",
    "            # Save the frame as an image file\n",
    "            frame_filename = os.path.join(output_dir, f\"frame_{count:04d}.jpg\")\n",
    "            cv2.imwrite(frame_filename, frame)\n",
    "        count += 1\n",
    "\n",
    "    # Release the video capture object\n",
    "    video_cap.release()\n",
    "\n",
    "# Function to process all videos in a directory\n",
    "def process_videos_in_directory(video_dir, frames_dir):\n",
    "    for video_name in os.listdir(video_dir):\n",
    "        video_path = os.path.join(video_dir, video_name)\n",
    "        video_output_dir = os.path.join(frames_dir, os.path.splitext(video_name)[0])\n",
    "\n",
    "        # Extract frames from the video\n",
    "        extract_frames(video_path, video_output_dir)\n",
    "\n",
    "# Extract frames from 'real' videos\n",
    "process_videos_in_directory(train_real_video_dir, train_real_frames_dir)\n",
    "\n",
    "# Extract frames from 'fake' videos\n",
    "process_videos_in_directory(train_fake_video_dir, train_fake_frames_dir)\n",
    "\n",
    "print(\"Train frames extraction completed.\")"
   ]
  },
  {
   "cell_type": "code",
   "execution_count": 9,
   "id": "87512c4b",
   "metadata": {},
   "outputs": [
    {
     "name": "stdout",
     "output_type": "stream",
     "text": [
      "Validation frames extraction completed.\n"
     ]
    }
   ],
   "source": [
    "# extracting frames from videos for validation data\n",
    "import cv2\n",
    "\n",
    "# Paths to the 'real' and 'fake' directories containing videos\n",
    "validation_real_video_dir = 'DFDC/validation_videos/real'\n",
    "validation_fake_video_dir = 'DFDC/validation_videos/fake'\n",
    "\n",
    "# Paths to save the extracted frames\n",
    "validation_real_frames_dir = 'DFDC/validation_frames/real'\n",
    "validation_fake_frames_dir = 'DFDC/validation_frames/fake'\n",
    "\n",
    "# Function to extract frames from a video and save them to a directory\n",
    "def extract_frames(video_path, output_dir, frame_rate=1):\n",
    "    # Create the output directory if it doesn't exist\n",
    "    os.makedirs(output_dir, exist_ok=True)\n",
    "\n",
    "    # Open the video file\n",
    "    video_cap = cv2.VideoCapture(video_path)\n",
    "    count = 0\n",
    "    success = True\n",
    "    fps = video_cap.get(cv2.CAP_PROP_FPS)\n",
    "    interval = int(fps // frame_rate)  # Calculate interval to capture frames\n",
    "\n",
    "    while success:\n",
    "        success, frame = video_cap.read()\n",
    "        if success and count % interval == 0:\n",
    "            # Save the frame as an image file\n",
    "            frame_filename = os.path.join(output_dir, f\"frame_{count:04d}.jpg\")\n",
    "            cv2.imwrite(frame_filename, frame)\n",
    "        count += 1\n",
    "\n",
    "    # Release the video capture object\n",
    "    video_cap.release()\n",
    "\n",
    "# Function to process all videos in a directory\n",
    "def process_videos_in_directory(video_dir, frames_dir):\n",
    "    for video_name in os.listdir(video_dir):\n",
    "        video_path = os.path.join(video_dir, video_name)\n",
    "        video_output_dir = os.path.join(frames_dir, os.path.splitext(video_name)[0])\n",
    "\n",
    "        # Extract frames from the video\n",
    "        extract_frames(video_path, video_output_dir)\n",
    "\n",
    "# Extract frames from 'real' videos\n",
    "process_videos_in_directory(validation_real_video_dir, validation_real_frames_dir)\n",
    "\n",
    "# Extract frames from 'fake' videos\n",
    "process_videos_in_directory(validation_fake_video_dir, validation_fake_frames_dir)\n",
    "\n",
    "print(\"Validation frames extraction completed.\")"
   ]
  },
  {
   "cell_type": "code",
   "execution_count": 10,
   "id": "1fd2925a",
   "metadata": {},
   "outputs": [
    {
     "name": "stdout",
     "output_type": "stream",
     "text": [
      "Splitting test data into real and fake folders completed.\n"
     ]
    }
   ],
   "source": [
    "# splitting test data into real and fake folders\n",
    "import json\n",
    "from sklearn.model_selection import train_test_split\n",
    "\n",
    "# Paths to dataset directories\n",
    "test_data_dir = \"DFDC/test_data\"\n",
    "\n",
    "\n",
    "# Load the metadata file that contains labels\n",
    "metadata_path = os.path.join(data_dir, 'metadata.json')\n",
    "with open(metadata_path, 'r') as f:\n",
    "    metadata = json.load(f)\n",
    "\n",
    "# Create lists for test videos based on metadata\n",
    "real_videos = [video for video, info in metadata.items() if info['label'] == 'REAL']\n",
    "fake_videos = [video for video, info in metadata.items() if info['label'] == 'FAKE']\n",
    "\n",
    "# Split the videos into test sets\n",
    "test_real = train_test_split(real_videos, test_size=0.2, random_state=42)[0]  # Keep only the training part\n",
    "test_fake = train_test_split(fake_videos, test_size=0.2, random_state=42)[0]  # Keep only the training part\n",
    "\n",
    "# Function to move files\n",
    "def move_files(video_list, src_dir, dest_dir):\n",
    "    os.makedirs(dest_dir, exist_ok=True)\n",
    "    for video in video_list:\n",
    "        src_path = os.path.join(src_dir, video)\n",
    "        dest_path = os.path.join(dest_dir, video)\n",
    "        if os.path.exists(src_path):\n",
    "            shutil.copy(src_path, dest_path)\n",
    "        else:\n",
    "            print(f\"Warning: {src_path} does not exist.\")\n",
    "\n",
    "# Create real and fake folders inside test directories\n",
    "os.makedirs(os.path.join(test_data_dir, 'real'), exist_ok=True)\n",
    "os.makedirs(os.path.join(test_data_dir, 'fake'), exist_ok=True)\n",
    "\n",
    "\n",
    "# Move the files from the original data directory to the test directories\n",
    "move_files(test_real, data_dir, os.path.join(test_data_dir, 'real'))\n",
    "move_files(test_fake, data_dir, os.path.join(test_data_dir, 'fake'))\n",
    "\n",
    "print(\"Splitting test data into real and fake folders completed.\")"
   ]
  },
  {
   "cell_type": "code",
   "execution_count": 12,
   "id": "9201cf90",
   "metadata": {},
   "outputs": [
    {
     "name": "stdout",
     "output_type": "stream",
     "text": [
      "Extracting test frames completed.\n"
     ]
    }
   ],
   "source": [
    "#extracting test frames\n",
    "\n",
    "import cv2\n",
    "\n",
    "# Paths to the 'real' and 'fake' directories containing videos\n",
    "test_real_video_dir = 'DFDC/test_data/real'\n",
    "test_fake_video_dir = 'DFDC/test_data/fake'\n",
    "\n",
    "# Paths to save the extracted frames\n",
    "test_real_frames_dir = 'DFDC/test_frames/real'\n",
    "test_fake_frames_dir = 'DFDC/test_frames/fake'\n",
    "\n",
    "# Function to extract frames from a video and save them to a directory\n",
    "def extract_frames(video_path, output_dir, frame_rate=1):\n",
    "    # Create the output directory if it doesn't exist\n",
    "    os.makedirs(output_dir, exist_ok=True)\n",
    "\n",
    "    # Open the video file\n",
    "    video_cap = cv2.VideoCapture(video_path)\n",
    "    count = 0\n",
    "    success = True\n",
    "    fps = video_cap.get(cv2.CAP_PROP_FPS)\n",
    "    interval = int(fps // frame_rate)  # Calculate interval to capture frames\n",
    "\n",
    "    while success:\n",
    "        success, frame = video_cap.read()\n",
    "        if success and count % interval == 0:\n",
    "            # Save the frame as an image file\n",
    "            frame_filename = os.path.join(output_dir, f\"frame_{count:04d}.jpg\")\n",
    "            cv2.imwrite(frame_filename, frame)\n",
    "        count += 1\n",
    "\n",
    "    # Release the video capture object\n",
    "    video_cap.release()\n",
    "\n",
    "# Function to process all videos in a directory\n",
    "def process_videos_in_directory(video_dir, frames_dir):\n",
    "    for video_name in os.listdir(video_dir):\n",
    "        video_path = os.path.join(video_dir, video_name)\n",
    "        video_output_dir = os.path.join(frames_dir, os.path.splitext(video_name)[0])\n",
    "\n",
    "        # Extract frames from the video\n",
    "        extract_frames(video_path, video_output_dir)\n",
    "\n",
    "# Extract frames from 'real' videos\n",
    "process_videos_in_directory(test_real_video_dir, test_real_frames_dir)\n",
    "\n",
    "# Extract frames from 'fake' videos\n",
    "process_videos_in_directory(test_fake_video_dir, test_fake_frames_dir)\n",
    "\n",
    "\n",
    "print(\"Extracting test frames completed.\")"
   ]
  },
  {
   "cell_type": "code",
   "execution_count": 7,
   "id": "20716a3d",
   "metadata": {},
   "outputs": [
    {
     "name": "stderr",
     "output_type": "stream",
     "text": [
      "2024-09-07 15:53:31.323561: I tensorflow/core/platform/cpu_feature_guard.cc:210] This TensorFlow binary is optimized to use available CPU instructions in performance-critical operations.\n",
      "To enable the following instructions: AVX2 AVX512F AVX512_VNNI FMA, in other operations, rebuild TensorFlow with the appropriate compiler flags.\n"
     ]
    },
    {
     "name": "stdout",
     "output_type": "stream",
     "text": [
      "Number of images in training directory: 2\n",
      "Number of images in validation directory: 2\n",
      "Found 2808 images belonging to 2 classes.\n",
      "Found 178 images belonging to 2 classes.\n",
      "Training generator yields data: True\n",
      "Validation generator yields data: True\n"
     ]
    }
   ],
   "source": [
    "from tensorflow.keras.preprocessing.image import ImageDataGenerator\n",
    "\n",
    "# Directory structure - Verify that these directories exist and contain images\n",
    "train_dir = 'DFDC/train_frames'\n",
    "val_dir = 'DFDC/validation_frames'\n",
    "\n",
    "# Print the number of images found in each directory\n",
    "print(\"Number of images in training directory:\", len(os.listdir(train_dir)))\n",
    "print(\"Number of images in validation directory:\", len(os.listdir(val_dir)))\n",
    "\n",
    "# Example data generators\n",
    "train_datagen = ImageDataGenerator(rescale=1./255, validation_split=0.2)\n",
    "train_generator = train_datagen.flow_from_directory(\n",
    "    train_dir,\n",
    "    target_size=(224, 224),\n",
    "    batch_size=32,\n",
    "    class_mode='binary',\n",
    "    subset='training'\n",
    ")\n",
    "\n",
    "validation_generator = train_datagen.flow_from_directory(\n",
    "    val_dir,\n",
    "    target_size=(224, 224),\n",
    "    batch_size=32,\n",
    "    class_mode='binary',\n",
    "    subset='validation'\n",
    ")\n",
    "\n",
    "# Check if generators are yielding data\n",
    "print(\"Training generator yields data:\", bool(next(train_generator, None)))\n",
    "print(\"Validation generator yields data:\", bool(next(validation_generator, None)))"
   ]
  },
  {
   "cell_type": "code",
   "execution_count": 8,
   "id": "fcccf9e7",
   "metadata": {},
   "outputs": [],
   "source": [
    "import os\n",
    "from tensorflow.keras.preprocessing.image import ImageDataGenerator\n",
    "\n",
    "# Directory structure - Verify that these directories exist and contain images\n",
    "train_dir = 'DFDC/train_frames'\n",
    "val_dir = 'DFDC/validation_frames'\n",
    "test_dir = 'DFDC/test_frames' # Assuming you have a test directory\n",
    "\n",
    "# ... (rest of the code remains the same)\n",
    "\n",
    "# Create a test generator\n",
    "test_datagen = ImageDataGenerator(rescale=1./255) # You might"
   ]
  },
  {
   "cell_type": "code",
   "execution_count": 10,
   "id": "d127b161",
   "metadata": {},
   "outputs": [
    {
     "name": "stdout",
     "output_type": "stream",
     "text": [
      "Found 3509 images belonging to 2 classes.\n"
     ]
    }
   ],
   "source": [
    "from tensorflow.keras.preprocessing.image import ImageDataGenerator\n",
    "\n",
    "# Directory containing test data\n",
    "test_dir = 'DFDC/test_frames'\n",
    "\n",
    "# Create a data generator for test data\n",
    "test_datagen = ImageDataGenerator(rescale=1./255)  # No augmentation for testing\n",
    "\n",
    "test_generator = test_datagen.flow_from_directory(\n",
    "    test_dir,\n",
    "    target_size=(224, 224),\n",
    "    batch_size=32,\n",
    "    class_mode='binary',  # Assuming binary classification\n",
    "    shuffle=False  # Important for evaluation to ensure predictions correspond to the correct labels\n",
    ")"
   ]
  },
  {
   "cell_type": "code",
   "execution_count": 11,
   "id": "4bd9299b",
   "metadata": {},
   "outputs": [
    {
     "name": "stdout",
     "output_type": "stream",
     "text": [
      "{'fake': 0, 'real': 1}\n",
      "3509\n"
     ]
    }
   ],
   "source": [
    "# Verify test_generator\n",
    "print(test_generator.class_indices)  # Check class indices\n",
    "print(len(test_generator.filenames))  # Check number of test samples\n"
   ]
  },
  {
   "cell_type": "code",
   "execution_count": 12,
   "id": "61d73680",
   "metadata": {},
   "outputs": [
    {
     "name": "stdout",
     "output_type": "stream",
     "text": [
      "Found 3509 images belonging to 2 classes.\n"
     ]
    }
   ],
   "source": [
    "test_datagen = ImageDataGenerator(rescale=1./255)\n",
    "test_generator = test_datagen.flow_from_directory(\n",
    "    test_dir,\n",
    "    target_size=(224, 224),\n",
    "    batch_size=32,\n",
    "    class_mode='binary',\n",
    "    shuffle=False\n",
    ")"
   ]
  },
  {
   "cell_type": "code",
   "execution_count": 13,
   "id": "a1551242",
   "metadata": {},
   "outputs": [
    {
     "name": "stdout",
     "output_type": "stream",
     "text": [
      "\u001b[1m1/1\u001b[0m \u001b[32m━━━━━━━━━━━━━━━━━━━━\u001b[0m\u001b[37m\u001b[0m \u001b[1m8s\u001b[0m 8s/step - accuracy: 0.0000e+00 - auc: 0.0000e+00 - loss: 0.7128 - precision: 0.0000e+00 - recall: 0.0000e+00\n",
      "Test loss: 0.71, Test accuracy: 0.00\n"
     ]
    }
   ],
   "source": [
    "# Evaluate on a batch from the generator\n",
    "import tensorflow as tf\n",
    "from tensorflow.keras.applications import EfficientNetB0\n",
    "from tensorflow.keras.layers import GlobalAveragePooling2D, Dropout, Dense\n",
    "from tensorflow.keras.models import Model\n",
    "\n",
    "# Build the model using EfficientNetB0\n",
    "base_model = EfficientNetB0(weights='imagenet', include_top=False, input_shape=(224, 224, 3))\n",
    "x = base_model.output\n",
    "x = GlobalAveragePooling2D()(x)\n",
    "x = Dropout(0.5)(x)  # Adding dropout for regularization\n",
    "predictions = Dense(1, activation='sigmoid')(x)  # Binary classification\n",
    "\n",
    "model = Model(inputs=base_model.input, outputs=predictions)\n",
    "# Compile the model\n",
    "model.compile(optimizer='adam', loss='binary_crossentropy',\n",
    "              metrics=['accuracy', tf.keras.metrics.Precision(),\n",
    "                       tf.keras.metrics.Recall(), tf.keras.metrics.AUC()])\n",
    "\n",
    "x_batch, y_batch = next(test_generator)\n",
    "# Store evaluation results in a single variable\n",
    "evaluation_results = model.evaluate(x_batch, y_batch)\n",
    "\n",
    "# Access individual metrics by index\n",
    "test_loss = evaluation_results[0]\n",
    "test_accuracy = evaluation_results[1]\n",
    "print(f'Test loss: {test_loss:.2f}, Test accuracy: {test_accuracy:.2f}')"
   ]
  },
  {
   "cell_type": "code",
   "execution_count": 14,
   "id": "edf151be",
   "metadata": {},
   "outputs": [
    {
     "name": "stdout",
     "output_type": "stream",
     "text": [
      "\u001b[1m1/1\u001b[0m \u001b[32m━━━━━━━━━━━━━━━━━━━━\u001b[0m\u001b[37m\u001b[0m \u001b[1m2s\u001b[0m 2s/step - accuracy: 0.0000e+00 - auc: 0.0000e+00 - loss: 0.7127 - precision: 0.0000e+00 - recall: 0.0000e+00\n",
      "Test loss: 0.71, Test accuracy: 0.00\n"
     ]
    }
   ],
   "source": [
    "# Evaluate on a batch from the generator\n",
    "if len(test_generator.filenames) == 0:\n",
    "    print(\"Error: No test samples found in the directory.\")\n",
    "else:\n",
    "    # Evaluate on a batch from the generator\n",
    "    x_batch, y_batch = next(test_generator)\n",
    "    evaluation_results = model.evaluate(x_batch, y_batch) # Store evaluation results in a single variable\n",
    "\n",
    "    # Access individual metrics by index\n",
    "    test_loss = evaluation_results[0]\n",
    "    test_accuracy = evaluation_results[1]\n",
    "    print(f'Test loss: {test_loss:.2f}, Test accuracy: {test_accuracy:.2f}')"
   ]
  },
  {
   "cell_type": "code",
   "execution_count": 1,
   "id": "3f030b2f",
   "metadata": {},
   "outputs": [
    {
     "name": "stderr",
     "output_type": "stream",
     "text": [
      "2024-09-07 18:18:44.565845: I tensorflow/core/platform/cpu_feature_guard.cc:210] This TensorFlow binary is optimized to use available CPU instructions in performance-critical operations.\n",
      "To enable the following instructions: AVX2 AVX512F AVX512_VNNI FMA, in other operations, rebuild TensorFlow with the appropriate compiler flags.\n"
     ]
    },
    {
     "name": "stdout",
     "output_type": "stream",
     "text": [
      "Creating image data generators...\n",
      "Loading data...\n",
      "Found 3509 images belonging to 2 classes.\n",
      "Found 891 images belonging to 2 classes.\n",
      "Found 3509 images belonging to 2 classes.\n",
      "Building the model...\n",
      "Compiling the model...\n",
      "Training the model...\n",
      "Epoch 1/20\n"
     ]
    },
    {
     "name": "stderr",
     "output_type": "stream",
     "text": [
      "/Users/deepikasharma/anaconda3/lib/python3.11/site-packages/keras/src/trainers/data_adapters/py_dataset_adapter.py:122: UserWarning: Your `PyDataset` class should call `super().__init__(**kwargs)` in its constructor. `**kwargs` can include `workers`, `use_multiprocessing`, `max_queue_size`. Do not pass these arguments to `fit()`, as they will be ignored.\n",
      "  self._warn_if_super_not_called()\n"
     ]
    },
    {
     "name": "stdout",
     "output_type": "stream",
     "text": [
      "\u001b[1m110/110\u001b[0m \u001b[32m━━━━━━━━━━━━━━━━━━━━\u001b[0m\u001b[37m\u001b[0m \u001b[1m950s\u001b[0m 8s/step - accuracy: 0.7536 - auc: 0.6287 - loss: 0.5178 - precision: 0.2809 - recall: 0.1598 - val_accuracy: 0.1975 - val_auc: 0.7004 - val_loss: 0.7568 - val_precision: 0.1975 - val_recall: 1.0000\n",
      "Epoch 2/20\n",
      "\u001b[1m110/110\u001b[0m \u001b[32m━━━━━━━━━━━━━━━━━━━━\u001b[0m\u001b[37m\u001b[0m \u001b[1m881s\u001b[0m 8s/step - accuracy: 0.8000 - auc: 0.7310 - loss: 0.4552 - precision: 0.5407 - recall: 0.1709 - val_accuracy: 0.8025 - val_auc: 0.6348 - val_loss: 0.5068 - val_precision: 0.0000e+00 - val_recall: 0.0000e+00\n",
      "Epoch 3/20\n",
      "\u001b[1m110/110\u001b[0m \u001b[32m━━━━━━━━━━━━━━━━━━━━\u001b[0m\u001b[37m\u001b[0m \u001b[1m875s\u001b[0m 8s/step - accuracy: 0.8161 - auc: 0.7396 - loss: 0.4347 - precision: 0.4866 - recall: 0.1132 - val_accuracy: 0.6992 - val_auc: 0.6934 - val_loss: 0.6012 - val_precision: 0.3321 - val_recall: 0.5170\n",
      "Epoch 4/20\n",
      "\u001b[1m110/110\u001b[0m \u001b[32m━━━━━━━━━━━━━━━━━━━━\u001b[0m\u001b[37m\u001b[0m \u001b[1m1316s\u001b[0m 12s/step - accuracy: 0.8300 - auc: 0.8144 - loss: 0.3832 - precision: 0.6325 - recall: 0.2382 - val_accuracy: 0.8025 - val_auc: 0.6971 - val_loss: 0.5062 - val_precision: 0.0000e+00 - val_recall: 0.0000e+00\n",
      "Epoch 5/20\n",
      "\u001b[1m110/110\u001b[0m \u001b[32m━━━━━━━━━━━━━━━━━━━━\u001b[0m\u001b[37m\u001b[0m \u001b[1m944s\u001b[0m 8s/step - accuracy: 0.8204 - auc: 0.8184 - loss: 0.3945 - precision: 0.6315 - recall: 0.2541 - val_accuracy: 0.8025 - val_auc: 0.7351 - val_loss: 0.4608 - val_precision: 0.0000e+00 - val_recall: 0.0000e+00\n",
      "Epoch 6/20\n",
      "\u001b[1m110/110\u001b[0m \u001b[32m━━━━━━━━━━━━━━━━━━━━\u001b[0m\u001b[37m\u001b[0m \u001b[1m1106s\u001b[0m 10s/step - accuracy: 0.8305 - auc: 0.8500 - loss: 0.3567 - precision: 0.6338 - recall: 0.2999 - val_accuracy: 0.8025 - val_auc: 0.6841 - val_loss: 0.4795 - val_precision: 0.0000e+00 - val_recall: 0.0000e+00\n",
      "Epoch 7/20\n",
      "\u001b[1m110/110\u001b[0m \u001b[32m━━━━━━━━━━━━━━━━━━━━\u001b[0m\u001b[37m\u001b[0m \u001b[1m1149s\u001b[0m 10s/step - accuracy: 0.8358 - auc: 0.8587 - loss: 0.3548 - precision: 0.6585 - recall: 0.3900 - val_accuracy: 0.4141 - val_auc: 0.5002 - val_loss: 2.8824 - val_precision: 0.1997 - val_recall: 0.6534\n",
      "Epoch 8/20\n",
      "\u001b[1m110/110\u001b[0m \u001b[32m━━━━━━━━━━━━━━━━━━━━\u001b[0m\u001b[37m\u001b[0m \u001b[1m1304s\u001b[0m 12s/step - accuracy: 0.8393 - auc: 0.8687 - loss: 0.3388 - precision: 0.6038 - recall: 0.4485 - val_accuracy: 0.8316 - val_auc: 0.8231 - val_loss: 0.4054 - val_precision: 0.6275 - val_recall: 0.3636\n",
      "Epoch 9/20\n",
      "\u001b[1m110/110\u001b[0m \u001b[32m━━━━━━━━━━━━━━━━━━━━\u001b[0m\u001b[37m\u001b[0m \u001b[1m981s\u001b[0m 9s/step - accuracy: 0.8580 - auc: 0.8834 - loss: 0.3186 - precision: 0.6679 - recall: 0.4844 - val_accuracy: 0.8283 - val_auc: 0.7929 - val_loss: 0.4569 - val_precision: 0.6386 - val_recall: 0.3011\n",
      "Epoch 10/20\n",
      "\u001b[1m110/110\u001b[0m \u001b[32m━━━━━━━━━━━━━━━━━━━━\u001b[0m\u001b[37m\u001b[0m \u001b[1m853s\u001b[0m 8s/step - accuracy: 0.8630 - auc: 0.9040 - loss: 0.2966 - precision: 0.6792 - recall: 0.5588 - val_accuracy: 0.7598 - val_auc: 0.7673 - val_loss: 0.4883 - val_precision: 0.3716 - val_recall: 0.3125\n",
      "Epoch 11/20\n",
      "\u001b[1m110/110\u001b[0m \u001b[32m━━━━━━━━━━━━━━━━━━━━\u001b[0m\u001b[37m\u001b[0m \u001b[1m928s\u001b[0m 8s/step - accuracy: 0.8621 - auc: 0.8931 - loss: 0.2978 - precision: 0.6805 - recall: 0.4797 - val_accuracy: 0.8361 - val_auc: 0.8578 - val_loss: 0.3742 - val_precision: 0.5789 - val_recall: 0.6250\n",
      "Epoch 12/20\n",
      "\u001b[1m110/110\u001b[0m \u001b[32m━━━━━━━━━━━━━━━━━━━━\u001b[0m\u001b[37m\u001b[0m \u001b[1m875s\u001b[0m 8s/step - accuracy: 0.8831 - auc: 0.9207 - loss: 0.2755 - precision: 0.7536 - recall: 0.6105 - val_accuracy: 0.7194 - val_auc: 0.7590 - val_loss: 0.4802 - val_precision: 0.3588 - val_recall: 0.5341\n",
      "Epoch 13/20\n",
      "\u001b[1m110/110\u001b[0m \u001b[32m━━━━━━━━━━━━━━━━━━━━\u001b[0m\u001b[37m\u001b[0m \u001b[1m902s\u001b[0m 8s/step - accuracy: 0.8920 - auc: 0.9269 - loss: 0.2550 - precision: 0.7250 - recall: 0.6619 - val_accuracy: 0.8272 - val_auc: 0.8418 - val_loss: 0.4416 - val_precision: 0.5611 - val_recall: 0.5739\n",
      "Epoch 14/20\n",
      "\u001b[1m110/110\u001b[0m \u001b[32m━━━━━━━━━━━━━━━━━━━━\u001b[0m\u001b[37m\u001b[0m \u001b[1m909s\u001b[0m 8s/step - accuracy: 0.8935 - auc: 0.9367 - loss: 0.2451 - precision: 0.7668 - recall: 0.6433 - val_accuracy: 0.8373 - val_auc: 0.8222 - val_loss: 0.4433 - val_precision: 0.5866 - val_recall: 0.5966\n",
      "Epoch 15/20\n",
      "\u001b[1m110/110\u001b[0m \u001b[32m━━━━━━━━━━━━━━━━━━━━\u001b[0m\u001b[37m\u001b[0m \u001b[1m913s\u001b[0m 8s/step - accuracy: 0.8909 - auc: 0.9325 - loss: 0.2456 - precision: 0.7498 - recall: 0.6289 - val_accuracy: 0.8294 - val_auc: 0.7512 - val_loss: 0.4433 - val_precision: 0.6364 - val_recall: 0.3182\n",
      "Epoch 16/20\n",
      "\u001b[1m110/110\u001b[0m \u001b[32m━━━━━━━━━━━━━━━━━━━━\u001b[0m\u001b[37m\u001b[0m \u001b[1m915s\u001b[0m 8s/step - accuracy: 0.9039 - auc: 0.9327 - loss: 0.2440 - precision: 0.8014 - recall: 0.6544 - val_accuracy: 0.8047 - val_auc: 0.8220 - val_loss: 0.4782 - val_precision: 0.5069 - val_recall: 0.4148\n",
      "Epoch 17/20\n",
      "\u001b[1m110/110\u001b[0m \u001b[32m━━━━━━━━━━━━━━━━━━━━\u001b[0m\u001b[37m\u001b[0m \u001b[1m908s\u001b[0m 8s/step - accuracy: 0.8992 - auc: 0.9451 - loss: 0.2260 - precision: 0.7691 - recall: 0.6642 - val_accuracy: 0.6599 - val_auc: 0.8264 - val_loss: 1.0382 - val_precision: 0.3617 - val_recall: 0.9432\n",
      "Epoch 18/20\n",
      "\u001b[1m110/110\u001b[0m \u001b[32m━━━━━━━━━━━━━━━━━━━━\u001b[0m\u001b[37m\u001b[0m \u001b[1m891s\u001b[0m 8s/step - accuracy: 0.9013 - auc: 0.9359 - loss: 0.2395 - precision: 0.7468 - recall: 0.6949 - val_accuracy: 0.7946 - val_auc: 0.8245 - val_loss: 0.4300 - val_precision: 0.4828 - val_recall: 0.5568\n",
      "Epoch 19/20\n",
      "\u001b[1m110/110\u001b[0m \u001b[32m━━━━━━━━━━━━━━━━━━━━\u001b[0m\u001b[37m\u001b[0m \u001b[1m864s\u001b[0m 8s/step - accuracy: 0.9044 - auc: 0.9479 - loss: 0.2198 - precision: 0.7543 - recall: 0.7171 - val_accuracy: 0.8519 - val_auc: 0.8730 - val_loss: 0.3761 - val_precision: 0.6250 - val_recall: 0.6250\n",
      "Epoch 20/20\n",
      "\u001b[1m110/110\u001b[0m \u001b[32m━━━━━━━━━━━━━━━━━━━━\u001b[0m\u001b[37m\u001b[0m \u001b[1m889s\u001b[0m 8s/step - accuracy: 0.9142 - auc: 0.9624 - loss: 0.1928 - precision: 0.8087 - recall: 0.7566 - val_accuracy: 0.7744 - val_auc: 0.8305 - val_loss: 0.4505 - val_precision: 0.4473 - val_recall: 0.6023\n",
      "Evaluating the model...\n",
      "\u001b[1m110/110\u001b[0m \u001b[32m━━━━━━━━━━━━━━━━━━━━\u001b[0m\u001b[37m\u001b[0m \u001b[1m235s\u001b[0m 2s/step - accuracy: 0.9386 - auc: 0.1969 - loss: 0.1649 - precision: 0.1089 - recall: 0.1567\n",
      "\u001b[1m110/110\u001b[0m \u001b[32m━━━━━━━━━━━━━━━━━━━━\u001b[0m\u001b[37m\u001b[0m \u001b[1m249s\u001b[0m 2s/step\n",
      "Processing true labels...\n",
      "Calculating F1-score...\n",
      "Accuracy: 90.31%\n",
      "Precision: 72.95%\n",
      "Recall: 78.39%\n",
      "F1-score: 75.57%\n",
      "AUC-ROC (TensorFlow): 0.95\n",
      "\n",
      "Classification Report:\n",
      "              precision    recall  f1-score   support\n",
      "\n",
      "           0       1.00      0.79      0.88      3509\n",
      "           1       0.00      0.00      0.00         0\n",
      "\n",
      "    accuracy                           0.79      3509\n",
      "   macro avg       0.50      0.39      0.44      3509\n",
      "weighted avg       1.00      0.79      0.88      3509\n",
      "\n",
      "Calculating AUC-ROC score...\n"
     ]
    },
    {
     "name": "stderr",
     "output_type": "stream",
     "text": [
      "/Users/deepikasharma/anaconda3/lib/python3.11/site-packages/sklearn/metrics/_classification.py:1469: UndefinedMetricWarning: Recall and F-score are ill-defined and being set to 0.0 in labels with no true samples. Use `zero_division` parameter to control this behavior.\n",
      "  _warn_prf(average, modifier, msg_start, len(result))\n",
      "/Users/deepikasharma/anaconda3/lib/python3.11/site-packages/sklearn/metrics/_classification.py:1469: UndefinedMetricWarning: Recall and F-score are ill-defined and being set to 0.0 in labels with no true samples. Use `zero_division` parameter to control this behavior.\n",
      "  _warn_prf(average, modifier, msg_start, len(result))\n",
      "/Users/deepikasharma/anaconda3/lib/python3.11/site-packages/sklearn/metrics/_classification.py:1469: UndefinedMetricWarning: Recall and F-score are ill-defined and being set to 0.0 in labels with no true samples. Use `zero_division` parameter to control this behavior.\n",
      "  _warn_prf(average, modifier, msg_start, len(result))\n"
     ]
    },
    {
     "ename": "ValueError",
     "evalue": "Only one class present in y_true. ROC AUC score is not defined in that case.",
     "output_type": "error",
     "traceback": [
      "\u001b[0;31m---------------------------------------------------------------------------\u001b[0m",
      "\u001b[0;31mValueError\u001b[0m                                Traceback (most recent call last)",
      "Cell \u001b[0;32mIn[1], line 86\u001b[0m\n\u001b[1;32m     84\u001b[0m \u001b[38;5;66;03m# AUC-ROC score using sklearn\u001b[39;00m\n\u001b[1;32m     85\u001b[0m \u001b[38;5;28mprint\u001b[39m(\u001b[38;5;124m\"\u001b[39m\u001b[38;5;124mCalculating AUC-ROC score...\u001b[39m\u001b[38;5;124m\"\u001b[39m)\n\u001b[0;32m---> 86\u001b[0m auc_roc \u001b[38;5;241m=\u001b[39m roc_auc_score(y_true, y_pred)\n\u001b[1;32m     87\u001b[0m \u001b[38;5;28mprint\u001b[39m(\u001b[38;5;124mf\u001b[39m\u001b[38;5;124m\"\u001b[39m\u001b[38;5;124mAUC-ROC (sklearn): \u001b[39m\u001b[38;5;132;01m{\u001b[39;00mauc_roc\u001b[38;5;132;01m:\u001b[39;00m\u001b[38;5;124m.2f\u001b[39m\u001b[38;5;132;01m}\u001b[39;00m\u001b[38;5;124m\"\u001b[39m)\n\u001b[1;32m     89\u001b[0m \u001b[38;5;66;03m# Confusion Matrix\u001b[39;00m\n",
      "File \u001b[0;32m~/anaconda3/lib/python3.11/site-packages/sklearn/utils/_param_validation.py:211\u001b[0m, in \u001b[0;36mvalidate_params.<locals>.decorator.<locals>.wrapper\u001b[0;34m(*args, **kwargs)\u001b[0m\n\u001b[1;32m    205\u001b[0m \u001b[38;5;28;01mtry\u001b[39;00m:\n\u001b[1;32m    206\u001b[0m     \u001b[38;5;28;01mwith\u001b[39;00m config_context(\n\u001b[1;32m    207\u001b[0m         skip_parameter_validation\u001b[38;5;241m=\u001b[39m(\n\u001b[1;32m    208\u001b[0m             prefer_skip_nested_validation \u001b[38;5;129;01mor\u001b[39;00m global_skip_validation\n\u001b[1;32m    209\u001b[0m         )\n\u001b[1;32m    210\u001b[0m     ):\n\u001b[0;32m--> 211\u001b[0m         \u001b[38;5;28;01mreturn\u001b[39;00m func(\u001b[38;5;241m*\u001b[39margs, \u001b[38;5;241m*\u001b[39m\u001b[38;5;241m*\u001b[39mkwargs)\n\u001b[1;32m    212\u001b[0m \u001b[38;5;28;01mexcept\u001b[39;00m InvalidParameterError \u001b[38;5;28;01mas\u001b[39;00m e:\n\u001b[1;32m    213\u001b[0m     \u001b[38;5;66;03m# When the function is just a wrapper around an estimator, we allow\u001b[39;00m\n\u001b[1;32m    214\u001b[0m     \u001b[38;5;66;03m# the function to delegate validation to the estimator, but we replace\u001b[39;00m\n\u001b[1;32m    215\u001b[0m     \u001b[38;5;66;03m# the name of the estimator by the name of the function in the error\u001b[39;00m\n\u001b[1;32m    216\u001b[0m     \u001b[38;5;66;03m# message to avoid confusion.\u001b[39;00m\n\u001b[1;32m    217\u001b[0m     msg \u001b[38;5;241m=\u001b[39m re\u001b[38;5;241m.\u001b[39msub(\n\u001b[1;32m    218\u001b[0m         \u001b[38;5;124mr\u001b[39m\u001b[38;5;124m\"\u001b[39m\u001b[38;5;124mparameter of \u001b[39m\u001b[38;5;124m\\\u001b[39m\u001b[38;5;124mw+ must be\u001b[39m\u001b[38;5;124m\"\u001b[39m,\n\u001b[1;32m    219\u001b[0m         \u001b[38;5;124mf\u001b[39m\u001b[38;5;124m\"\u001b[39m\u001b[38;5;124mparameter of \u001b[39m\u001b[38;5;132;01m{\u001b[39;00mfunc\u001b[38;5;241m.\u001b[39m\u001b[38;5;18m__qualname__\u001b[39m\u001b[38;5;132;01m}\u001b[39;00m\u001b[38;5;124m must be\u001b[39m\u001b[38;5;124m\"\u001b[39m,\n\u001b[1;32m    220\u001b[0m         \u001b[38;5;28mstr\u001b[39m(e),\n\u001b[1;32m    221\u001b[0m     )\n",
      "File \u001b[0;32m~/anaconda3/lib/python3.11/site-packages/sklearn/metrics/_ranking.py:626\u001b[0m, in \u001b[0;36mroc_auc_score\u001b[0;34m(y_true, y_score, average, sample_weight, max_fpr, multi_class, labels)\u001b[0m\n\u001b[1;32m    624\u001b[0m     labels \u001b[38;5;241m=\u001b[39m np\u001b[38;5;241m.\u001b[39munique(y_true)\n\u001b[1;32m    625\u001b[0m     y_true \u001b[38;5;241m=\u001b[39m label_binarize(y_true, classes\u001b[38;5;241m=\u001b[39mlabels)[:, \u001b[38;5;241m0\u001b[39m]\n\u001b[0;32m--> 626\u001b[0m     \u001b[38;5;28;01mreturn\u001b[39;00m _average_binary_score(\n\u001b[1;32m    627\u001b[0m         partial(_binary_roc_auc_score, max_fpr\u001b[38;5;241m=\u001b[39mmax_fpr),\n\u001b[1;32m    628\u001b[0m         y_true,\n\u001b[1;32m    629\u001b[0m         y_score,\n\u001b[1;32m    630\u001b[0m         average,\n\u001b[1;32m    631\u001b[0m         sample_weight\u001b[38;5;241m=\u001b[39msample_weight,\n\u001b[1;32m    632\u001b[0m     )\n\u001b[1;32m    633\u001b[0m \u001b[38;5;28;01melse\u001b[39;00m:  \u001b[38;5;66;03m# multilabel-indicator\u001b[39;00m\n\u001b[1;32m    634\u001b[0m     \u001b[38;5;28;01mreturn\u001b[39;00m _average_binary_score(\n\u001b[1;32m    635\u001b[0m         partial(_binary_roc_auc_score, max_fpr\u001b[38;5;241m=\u001b[39mmax_fpr),\n\u001b[1;32m    636\u001b[0m         y_true,\n\u001b[0;32m   (...)\u001b[0m\n\u001b[1;32m    639\u001b[0m         sample_weight\u001b[38;5;241m=\u001b[39msample_weight,\n\u001b[1;32m    640\u001b[0m     )\n",
      "File \u001b[0;32m~/anaconda3/lib/python3.11/site-packages/sklearn/metrics/_base.py:75\u001b[0m, in \u001b[0;36m_average_binary_score\u001b[0;34m(binary_metric, y_true, y_score, average, sample_weight)\u001b[0m\n\u001b[1;32m     72\u001b[0m     \u001b[38;5;28;01mraise\u001b[39;00m \u001b[38;5;167;01mValueError\u001b[39;00m(\u001b[38;5;124m\"\u001b[39m\u001b[38;5;132;01m{0}\u001b[39;00m\u001b[38;5;124m format is not supported\u001b[39m\u001b[38;5;124m\"\u001b[39m\u001b[38;5;241m.\u001b[39mformat(y_type))\n\u001b[1;32m     74\u001b[0m \u001b[38;5;28;01mif\u001b[39;00m y_type \u001b[38;5;241m==\u001b[39m \u001b[38;5;124m\"\u001b[39m\u001b[38;5;124mbinary\u001b[39m\u001b[38;5;124m\"\u001b[39m:\n\u001b[0;32m---> 75\u001b[0m     \u001b[38;5;28;01mreturn\u001b[39;00m binary_metric(y_true, y_score, sample_weight\u001b[38;5;241m=\u001b[39msample_weight)\n\u001b[1;32m     77\u001b[0m check_consistent_length(y_true, y_score, sample_weight)\n\u001b[1;32m     78\u001b[0m y_true \u001b[38;5;241m=\u001b[39m check_array(y_true)\n",
      "File \u001b[0;32m~/anaconda3/lib/python3.11/site-packages/sklearn/metrics/_ranking.py:381\u001b[0m, in \u001b[0;36m_binary_roc_auc_score\u001b[0;34m(y_true, y_score, sample_weight, max_fpr)\u001b[0m\n\u001b[1;32m    379\u001b[0m \u001b[38;5;250m\u001b[39m\u001b[38;5;124;03m\"\"\"Binary roc auc score.\"\"\"\u001b[39;00m\n\u001b[1;32m    380\u001b[0m \u001b[38;5;28;01mif\u001b[39;00m \u001b[38;5;28mlen\u001b[39m(np\u001b[38;5;241m.\u001b[39munique(y_true)) \u001b[38;5;241m!=\u001b[39m \u001b[38;5;241m2\u001b[39m:\n\u001b[0;32m--> 381\u001b[0m     \u001b[38;5;28;01mraise\u001b[39;00m \u001b[38;5;167;01mValueError\u001b[39;00m(\n\u001b[1;32m    382\u001b[0m         \u001b[38;5;124m\"\u001b[39m\u001b[38;5;124mOnly one class present in y_true. ROC AUC score \u001b[39m\u001b[38;5;124m\"\u001b[39m\n\u001b[1;32m    383\u001b[0m         \u001b[38;5;124m\"\u001b[39m\u001b[38;5;124mis not defined in that case.\u001b[39m\u001b[38;5;124m\"\u001b[39m\n\u001b[1;32m    384\u001b[0m     )\n\u001b[1;32m    386\u001b[0m fpr, tpr, _ \u001b[38;5;241m=\u001b[39m roc_curve(y_true, y_score, sample_weight\u001b[38;5;241m=\u001b[39msample_weight)\n\u001b[1;32m    387\u001b[0m \u001b[38;5;28;01mif\u001b[39;00m max_fpr \u001b[38;5;129;01mis\u001b[39;00m \u001b[38;5;28;01mNone\u001b[39;00m \u001b[38;5;129;01mor\u001b[39;00m max_fpr \u001b[38;5;241m==\u001b[39m \u001b[38;5;241m1\u001b[39m:\n",
      "\u001b[0;31mValueError\u001b[0m: Only one class present in y_true. ROC AUC score is not defined in that case."
     ]
    }
   ],
   "source": [
    "import os\n",
    "import tensorflow as tf\n",
    "import numpy as np\n",
    "import matplotlib.pyplot as plt\n",
    "from sklearn.metrics import classification_report, confusion_matrix, roc_curve, auc, roc_auc_score\n",
    "from tensorflow.keras.preprocessing.image import ImageDataGenerator\n",
    "from tensorflow.keras.applications import EfficientNetB0\n",
    "from tensorflow.keras.layers import GlobalAveragePooling2D, Dropout, Dense\n",
    "from tensorflow.keras.models import Model\n",
    "\n",
    "# Suppress INFO and WARNING messages\n",
    "os.environ['TF_CPP_MIN_LOG_LEVEL'] = '2'\n",
    "\n",
    "train_dir = 'DFDC/train_frames'\n",
    "val_dir = 'DFDC/validation_frames'\n",
    "test_dir = 'DFDC/test_frames'\n",
    "\n",
    "# Image data generator for data augmentation\n",
    "print(\"Creating image data generators...\")\n",
    "datagen = ImageDataGenerator(rescale=1./255, rotation_range=20, width_shift_range=0.2,\n",
    "                             height_shift_range=0.2, shear_range=0.2, zoom_range=0.2,\n",
    "                             horizontal_flip=True, fill_mode='nearest')\n",
    "\n",
    "# Load the train, validation, and test data\n",
    "print(\"Loading data...\")\n",
    "train_generator = datagen.flow_from_directory(train_dir, target_size=(224, 224),\n",
    "                                              batch_size=32, class_mode='binary')\n",
    "val_generator = datagen.flow_from_directory(val_dir, target_size=(224, 224),\n",
    "                                            batch_size=32, class_mode='binary')\n",
    "test_generator = datagen.flow_from_directory(test_dir, target_size=(224, 224),\n",
    "                                             batch_size=32, class_mode='binary', shuffle=False)\n",
    "\n",
    "# Adding prefetching to improve performance (only if using tf.data.Dataset)\n",
    "# Note: ImageDataGenerator does not support prefetching directly\n",
    "# train_generator = train_generator.prefetch(buffer_size=tf.data.AUTOTUNE)\n",
    "# val_generator = val_generator.prefetch(buffer_size=tf.data.AUTOTUNE)\n",
    "# test_generator = test_generator.prefetch(buffer_size=tf.data.AUTOTUNE)\n",
    "\n",
    "# Build the model using EfficientNetB0\n",
    "print(\"Building the model...\")\n",
    "base_model = EfficientNetB0(weights='imagenet', include_top=False, input_shape=(224, 224, 3))\n",
    "x = base_model.output\n",
    "x = GlobalAveragePooling2D()(x)\n",
    "x = Dropout(0.5)(x)  # Adding dropout for regularization\n",
    "predictions = Dense(1, activation='sigmoid')(x)  # Binary classification\n",
    "\n",
    "model = Model(inputs=base_model.input, outputs=predictions)\n",
    "\n",
    "# Compile the model\n",
    "print(\"Compiling the model...\")\n",
    "model.compile(optimizer='adam', loss='binary_crossentropy',\n",
    "              metrics=['accuracy', tf.keras.metrics.Precision(),\n",
    "                       tf.keras.metrics.Recall(), tf.keras.metrics.AUC()])\n",
    "\n",
    "# Train the model\n",
    "print(\"Training the model...\")\n",
    "model.fit(train_generator, epochs=20, validation_data=val_generator)\n",
    "\n",
    "# Evaluate the model on test data\n",
    "print(\"Evaluating the model...\")\n",
    "test_loss, test_accuracy, test_precision, test_recall, test_auc = model.evaluate(test_generator)\n",
    "y_pred = model.predict(test_generator)\n",
    "y_true = test_generator.classes\n",
    "\n",
    "# Adjust y_true values to be 0 or 1 (Note: This step might be unnecessary if classes are already binary)\n",
    "print(\"Processing true labels...\")\n",
    "y_true = np.where(y_true == 2, 1, 0)  # Replace 2 with 1, leave others unchanged\n",
    "\n",
    "# Calculate F1-score\n",
    "print(\"Calculating F1-score...\")\n",
    "f1_score = 2 * (test_precision * test_recall) / (test_precision + test_recall)\n",
    "\n",
    "# Print out the results\n",
    "print(f\"Accuracy: {test_accuracy * 100:.2f}%\")\n",
    "print(f\"Precision: {test_precision * 100:.2f}%\")\n",
    "print(f\"Recall: {test_recall * 100:.2f}%\")\n",
    "print(f\"F1-score: {f1_score * 100:.2f}%\")\n",
    "print(f\"AUC-ROC (TensorFlow): {test_auc:.2f}\")\n",
    "\n",
    "# For a detailed classification report\n",
    "print(\"\\nClassification Report:\")\n",
    "print(classification_report(y_true, (y_pred > 0.5).astype(int)))\n",
    "\n",
    "# AUC-ROC score using sklearn\n",
    "print(\"Calculating AUC-ROC score...\")\n",
    "auc_roc = roc_auc_score(y_true, y_pred)\n",
    "print(f\"AUC-ROC (sklearn): {auc_roc:.2f}\")\n",
    "\n",
    "# Confusion Matrix\n",
    "print(\"Generating Confusion Matrix...\")\n",
    "conf_matrix = confusion_matrix(y_true, (y_pred > 0.5).astype(int))\n",
    "print(\"\\nConfusion Matrix:\")\n",
    "print(conf_matrix)\n",
    "\n",
    "# Plotting the AUC-ROC Curve\n",
    "print(\"Plotting AUC-ROC Curve...\")\n",
    "fpr, tpr, _ = roc_curve(y_true, y_pred)\n",
    "roc_auc = auc(fpr, tpr)\n",
    "\n",
    "plt.figure()\n",
    "plt.plot(fpr, tpr, color='darkorange', lw=2, label=f'ROC curve (area = {roc_auc:.2f})')\n",
    "plt.plot([0, 1], [0, 1], color='navy', lw=2, linestyle='--')\n",
    "plt.xlim([0.0, 1.0])\n",
    "plt.ylim([0.0, 1.05])\n",
    "plt.xlabel('False Positive Rate')\n",
    "plt.ylabel('True Positive Rate')\n",
    "plt.title('Receiver Operating Characteristic')\n",
    "plt.legend(loc=\"lower right\")\n",
    "plt.show()\n"
   ]
  },
  {
   "cell_type": "code",
   "execution_count": 2,
   "id": "b2bf0752",
   "metadata": {},
   "outputs": [
    {
     "name": "stdout",
     "output_type": "stream",
     "text": [
      "Only one class present in y_true. ROC AUC score is not defined.\n"
     ]
    }
   ],
   "source": [
    "# Check if y_true contains more than one class\n",
    "if len(np.unique(y_true)) > 1:\n",
    "    # Calculate AUC-ROC score using sklearn\n",
    "    print(\"Calculating AUC-ROC score...\")\n",
    "    auc_roc = roc_auc_score(y_true, y_pred)\n",
    "    print(f\"AUC-ROC (sklearn): {auc_roc:.2f}\")\n",
    "else:\n",
    "    print(\"Only one class present in y_true. ROC AUC score is not defined.\")\n",
    "    auc_roc = 0.5  # Assign a default value or handle accordingly\n"
   ]
  },
  {
   "cell_type": "code",
   "execution_count": 3,
   "id": "2320a88d",
   "metadata": {},
   "outputs": [
    {
     "name": "stdout",
     "output_type": "stream",
     "text": [
      "\n",
      "Classification Report:\n",
      "              precision    recall  f1-score   support\n",
      "\n",
      "           0       1.00      0.79      0.88      3509\n",
      "           1       0.00      0.00      0.00         0\n",
      "\n",
      "    accuracy                           0.79      3509\n",
      "   macro avg       0.50      0.39      0.44      3509\n",
      "weighted avg       1.00      0.79      0.88      3509\n",
      "\n"
     ]
    }
   ],
   "source": [
    "print(\"\\nClassification Report:\")\n",
    "print(classification_report(y_true, (y_pred > 0.5).astype(int), zero_division=0))\n"
   ]
  },
  {
   "cell_type": "code",
   "execution_count": 4,
   "id": "d01fcd09",
   "metadata": {},
   "outputs": [
    {
     "name": "stdout",
     "output_type": "stream",
     "text": [
      "Cannot plot AUC-ROC curve: Only one class present in y_true.\n"
     ]
    }
   ],
   "source": [
    "# Plotting the AUC-ROC Curve\n",
    "if len(np.unique(y_true)) > 1:\n",
    "    print(\"Plotting AUC-ROC Curve...\")\n",
    "    fpr, tpr, _ = roc_curve(y_true, y_pred)\n",
    "    roc_auc = auc(fpr, tpr)\n",
    "\n",
    "    plt.figure()\n",
    "    plt.plot(fpr, tpr, color='darkorange', lw=2, label=f'ROC curve (area = {roc_auc:.2f})')\n",
    "    plt.plot([0, 1], [0, 1], color='navy', lw=2, linestyle='--')\n",
    "    plt.xlim([0.0, 1.0])\n",
    "    plt.ylim([0.0, 1.05])\n",
    "    plt.xlabel('False Positive Rate')\n",
    "    plt.ylabel('True Positive Rate')\n",
    "    plt.title('Receiver Operating Characteristic')\n",
    "    plt.legend(loc=\"lower right\")\n",
    "    plt.show()\n",
    "else:\n",
    "    print(\"Cannot plot AUC-ROC curve: Only one class present in y_true.\")\n"
   ]
  },
  {
   "cell_type": "code",
   "execution_count": 5,
   "id": "da5d1b5e",
   "metadata": {},
   "outputs": [
    {
     "name": "stdout",
     "output_type": "stream",
     "text": [
      "Train data distribution: [2838  671]\n",
      "Validation data distribution: [715 176]\n",
      "Test data distribution: [2838  671]\n"
     ]
    }
   ],
   "source": [
    "# Check label distribution in train, validation, and test datasets\n",
    "train_class_counts = train_generator.classes\n",
    "val_class_counts = val_generator.classes\n",
    "test_class_counts = test_generator.classes\n",
    "\n",
    "print(\"Train data distribution:\", np.bincount(train_class_counts))\n",
    "print(\"Validation data distribution:\", np.bincount(val_class_counts))\n",
    "print(\"Test data distribution:\", np.bincount(test_class_counts))\n"
   ]
  },
  {
   "cell_type": "code",
   "execution_count": 6,
   "id": "bf0b8cf8",
   "metadata": {},
   "outputs": [
    {
     "name": "stdout",
     "output_type": "stream",
     "text": [
      "Only one class present in y_true. ROC AUC score is not defined.\n",
      "Cannot plot AUC-ROC curve: Only one class present in y_true. Please check data distribution.\n"
     ]
    }
   ],
   "source": [
    "# Calculate AUC-ROC score using sklearn, only if there are multiple classes\n",
    "if len(np.unique(y_true)) > 1:\n",
    "    print(\"Calculating AUC-ROC score...\")\n",
    "    auc_roc = roc_auc_score(y_true, y_pred)\n",
    "    print(f\"AUC-ROC (sklearn): {auc_roc:.2f}\")\n",
    "else:\n",
    "    print(\"Only one class present in y_true. ROC AUC score is not defined.\")\n",
    "    auc_roc = 0.5  # Default value when only one class is present\n",
    "\n",
    "# Plotting the AUC-ROC Curve only if there are multiple classes\n",
    "if len(np.unique(y_true)) > 1:\n",
    "    print(\"Plotting AUC-ROC Curve...\")\n",
    "    fpr, tpr, _ = roc_curve(y_true, y_pred)\n",
    "    roc_auc = auc(fpr, tpr)\n",
    "\n",
    "    plt.figure()\n",
    "    plt.plot(fpr, tpr, color='darkorange', lw=2, label=f'ROC curve (area = {roc_auc:.2f})')\n",
    "    plt.plot([0, 1], [0, 1], color='navy', lw=2, linestyle='--')\n",
    "    plt.xlim([0.0, 1.0])\n",
    "    plt.ylim([0.0, 1.05])\n",
    "    plt.xlabel('False Positive Rate')\n",
    "    plt.ylabel('True Positive Rate')\n",
    "    plt.title('Receiver Operating Characteristic')\n",
    "    plt.legend(loc=\"lower right\")\n",
    "    plt.show()\n",
    "else:\n",
    "    print(\"Cannot plot AUC-ROC curve: Only one class present in y_true. Please check data distribution.\")\n"
   ]
  },
  {
   "cell_type": "code",
   "execution_count": 11,
   "id": "3103de65",
   "metadata": {},
   "outputs": [
    {
     "name": "stdout",
     "output_type": "stream",
     "text": [
      "\n",
      "Checking distribution of true labels in the test dataset...\n",
      "Classes in test data: [0 1]\n",
      "Counts per class in test data: [2838  671]\n",
      "\n",
      "Checking distribution of predicted labels...\n",
      "Classes in predicted data: [0 1]\n",
      "Counts per class in predicted data: [2760  749]\n",
      "\n",
      "Validating the input formats and values:\n",
      "y_true unique values: [0 1]\n",
      "y_pred_proba range: [8.617636277568284e-18, 1.0]\n",
      "y_pred_proba length: 3509, y_true length: 3509\n",
      "Calculating AUC-ROC score...\n",
      "AUC-ROC (sklearn): 0.96\n",
      "Plotting AUC-ROC Curve...\n"
     ]
    },
    {
     "data": {
      "image/png": "[encoded data removed]",
      "text/plain": [
       "<Figure size 640x480 with 1 Axes>"
      ]
     },
     "metadata": {},
     "output_type": "display_data"
    }
   ],
   "source": [
    "# Checking the distribution of labels in the test data\n",
    "print(\"\\nChecking distribution of true labels in the test dataset...\")\n",
    "unique_classes, class_counts = np.unique(test_generator.classes, return_counts=True)\n",
    "print(f\"Classes in test data: {unique_classes}\")\n",
    "print(f\"Counts per class in test data: {class_counts}\")\n",
    "\n",
    "# Checking the distribution of predicted labels\n",
    "print(\"\\nChecking distribution of predicted labels...\")\n",
    "y_pred_labels = (y_pred > 0.5).astype(int)  # Convert probabilities to binary labels for count check\n",
    "unique_pred, pred_counts = np.unique(y_pred_labels, return_counts=True)\n",
    "print(f\"Classes in predicted data: {unique_pred}\")\n",
    "print(f\"Counts per class in predicted data: {pred_counts}\")\n",
    "\n",
    "# Verify the shape of y_pred and extract probabilities for the positive class\n",
    "if y_pred.ndim > 1 and y_pred.shape[1] == 2:\n",
    "    y_pred_proba = y_pred[:, 1]  # Get the probabilities for the positive class (1)\n",
    "else:\n",
    "    y_pred_proba = y_pred  # Assume y_pred is already the probability for the positive class\n",
    "\n",
    "# Ensure that y_pred_proba is a valid probability score array\n",
    "y_pred_proba = np.clip(y_pred_proba, 0, 1)  # Clip values to the range [0, 1]\n",
    "\n",
    "# Validate that y_true and y_pred_proba have the correct format and values\n",
    "y_true = test_generator.classes  # Ensure y_true is the ground truth binary labels (0 or 1)\n",
    "\n",
    "print(\"\\nValidating the input formats and values:\")\n",
    "print(f\"y_true unique values: {np.unique(y_true)}\")\n",
    "print(f\"y_pred_proba range: [{y_pred_proba.min()}, {y_pred_proba.max()}]\")\n",
    "print(f\"y_pred_proba length: {len(y_pred_proba)}, y_true length: {len(y_true)}\")\n",
    "\n",
    "# Check that both y_true and y_pred_proba contain more than one class and are of equal length\n",
    "if len(np.unique(y_true)) > 1 and len(np.unique(y_pred_labels)) > 1 and len(y_true) == len(y_pred_proba):\n",
    "    print(\"Calculating AUC-ROC score...\")\n",
    "\n",
    "    # Use continuous probability scores (y_pred_proba) instead of binary labels\n",
    "    auc_roc = roc_auc_score(y_true, y_pred_proba)\n",
    "    print(f\"AUC-ROC (sklearn): {auc_roc:.2f}\")\n",
    "\n",
    "    # Plotting the AUC-ROC Curve\n",
    "    print(\"Plotting AUC-ROC Curve...\")\n",
    "    fpr, tpr, _ = roc_curve(y_true, y_pred_proba)\n",
    "    roc_auc = auc(fpr, tpr)\n",
    "\n",
    "    plt.figure()\n",
    "    plt.plot(fpr, tpr, color='darkorange', lw=2, label=f'ROC curve (area = {roc_auc:.2f})')\n",
    "    plt.plot([0, 1], [0, 1], color='navy', lw=2, linestyle='--')\n",
    "    plt.xlim([0.0, 1.0])\n",
    "    plt.ylim([0.0, 1.05])\n",
    "    plt.xlabel('False Positive Rate')\n",
    "    plt.ylabel('True Positive Rate')\n",
    "    plt.title('Receiver Operating Characteristic')\n",
    "    plt.legend(loc=\"lower right\")\n",
    "    plt.show()\n",
    "else:\n",
    "    print(\"Cannot calculate AUC-ROC score or plot AUC-ROC curve: Only one class present in y_true or y_pred, or mismatch in lengths. Please check model predictions and data distribution.\")\n"
   ]
  },
  {
   "cell_type": "code",
   "execution_count": 14,
   "id": "46de96d0",
   "metadata": {},
   "outputs": [
    {
     "name": "stdout",
     "output_type": "stream",
     "text": [
      "\n",
      "Checking distribution of true labels in the test dataset...\n",
      "Classes in test data: [0 1]\n",
      "Counts per class in test data: [2838  671]\n",
      "\n",
      "Checking distribution of predicted labels...\n",
      "Classes in predicted data: [0 1]\n",
      "Counts per class in predicted data: [2760  749]\n",
      "\n",
      "Confusion Matrix:\n",
      "[[2633  205]\n",
      " [ 127  544]]\n"
     ]
    },
    {
     "data": {
      "image/png": "[encoded data removed]",
      "text/plain": [
       "<Figure size 800x600 with 2 Axes>"
      ]
     },
     "metadata": {},
     "output_type": "display_data"
    },
    {
     "name": "stdout",
     "output_type": "stream",
     "text": [
      "\n",
      "Classification Report:\n",
      "              precision    recall  f1-score   support\n",
      "\n",
      "           0       0.95      0.93      0.94      2838\n",
      "           1       0.73      0.81      0.77       671\n",
      "\n",
      "    accuracy                           0.91      3509\n",
      "   macro avg       0.84      0.87      0.85      3509\n",
      "weighted avg       0.91      0.91      0.91      3509\n",
      "\n"
     ]
    }
   ],
   "source": [
    "import numpy as np\n",
    "import matplotlib.pyplot as plt\n",
    "import seaborn as sns\n",
    "from sklearn.metrics import confusion_matrix, classification_report\n",
    "\n",
    "# Checking the distribution of labels in the test data\n",
    "print(\"\\nChecking distribution of true labels in the test dataset...\")\n",
    "unique_classes, class_counts = np.unique(test_generator.classes, return_counts=True)\n",
    "print(f\"Classes in test data: {unique_classes}\")\n",
    "print(f\"Counts per class in test data: {class_counts}\")\n",
    "\n",
    "# Checking the distribution of predicted labels\n",
    "print(\"\\nChecking distribution of predicted labels...\")\n",
    "y_pred_labels = (y_pred > 0.5).astype(int)  # Convert probabilities to binary labels for count check\n",
    "unique_pred, pred_counts = np.unique(y_pred_labels, return_counts=True)\n",
    "print(f\"Classes in predicted data: {unique_pred}\")\n",
    "print(f\"Counts per class in predicted data: {pred_counts}\")\n",
    "\n",
    "# Compute the confusion matrix\n",
    "conf_matrix = confusion_matrix(test_generator.classes, y_pred_labels, labels=unique_classes)\n",
    "\n",
    "# Print the confusion matrix\n",
    "print(\"\\nConfusion Matrix:\")\n",
    "print(conf_matrix)\n",
    "\n",
    "# Plot the confusion matrix\n",
    "plt.figure(figsize=(8, 6))\n",
    "sns.heatmap(conf_matrix, annot=True, fmt='d', cmap='Blues', \n",
    "            xticklabels=unique_classes, yticklabels=unique_classes)\n",
    "plt.xlabel('Predicted Labels')\n",
    "plt.ylabel('True Labels')\n",
    "plt.title('Confusion Matrix')\n",
    "plt.show()\n",
    "\n",
    "# Optionally, display a classification report\n",
    "print(\"\\nClassification Report:\")\n",
    "print(classification_report(test_generator.classes, y_pred_labels, target_names=[str(cls) for cls in unique_classes]))\n"
   ]
  },
  {
   "cell_type": "code",
   "execution_count": 18,
   "id": "d1db8bd1",
   "metadata": {},
   "outputs": [
    {
     "name": "stdout",
     "output_type": "stream",
     "text": [
      "\n",
      "Confusion Matrix for Non-Augmented Data:\n",
      "[[2 0]\n",
      " [1 1]]\n",
      "\n",
      "Confusion Matrix for Augmented Data:\n",
      "[[2 0]\n",
      " [0 2]]\n"
     ]
    },
    {
     "data": {
      "image/png": "[encoded data removed]",
      "text/plain": [
       "<Figure size 800x600 with 2 Axes>"
      ]
     },
     "metadata": {},
     "output_type": "display_data"
    },
    {
     "data": {
      "image/png": "[encoded data removed]",
      "text/plain": [
       "<Figure size 800x600 with 2 Axes>"
      ]
     },
     "metadata": {},
     "output_type": "display_data"
    },
    {
     "name": "stdout",
     "output_type": "stream",
     "text": [
      "\n",
      "Classification Report for Non-Augmented Data:\n",
      "              precision    recall  f1-score   support\n",
      "\n",
      "           0       0.67      1.00      0.80         2\n",
      "           1       1.00      0.50      0.67         2\n",
      "\n",
      "    accuracy                           0.75         4\n",
      "   macro avg       0.83      0.75      0.73         4\n",
      "weighted avg       0.83      0.75      0.73         4\n",
      "\n",
      "\n",
      "Classification Report for Augmented Data:\n",
      "              precision    recall  f1-score   support\n",
      "\n",
      "           0       1.00      1.00      1.00         2\n",
      "           1       1.00      1.00      1.00         2\n",
      "\n",
      "    accuracy                           1.00         4\n",
      "   macro avg       1.00      1.00      1.00         4\n",
      "weighted avg       1.00      1.00      1.00         4\n",
      "\n",
      "\n",
      "Confusion Matrix Comparison Table:\n",
      "                Metric  Non-Augmented Data  Augmented Data\n",
      "0   True Positive (TP)                   1               2\n",
      "1  False Positive (FP)                   0               0\n",
      "2   True Negative (TN)                   2               2\n",
      "3  False Negative (FN)                   1               0\n"
     ]
    }
   ],
   "source": [
    "import numpy as np\n",
    "import matplotlib.pyplot as plt\n",
    "import seaborn as sns\n",
    "import pandas as pd\n",
    "from sklearn.metrics import confusion_matrix, classification_report\n",
    "\n",
    "def plot_confusion_matrix(cm, labels, title):\n",
    "    plt.figure(figsize=(8, 6))\n",
    "    sns.heatmap(cm, annot=True, fmt='d', cmap='Blues', \n",
    "                xticklabels=labels, yticklabels=labels)\n",
    "    plt.xlabel('Predicted Labels')\n",
    "    plt.ylabel('True Labels')\n",
    "    plt.title(title)\n",
    "    plt.show()\n",
    "\n",
    "def compute_confusion_matrix(y_true, y_pred, unique_classes):\n",
    "    # Ensure y_true and y_pred are numpy arrays\n",
    "    y_true = np.array(y_true)\n",
    "    y_pred = np.array(y_pred)\n",
    "\n",
    "    # Make sure the unique_classes is sorted (optional but useful for consistency)\n",
    "    unique_classes = sorted(unique_classes)\n",
    "\n",
    "    # Check if the labels in y_true and y_pred match the unique_classes\n",
    "    if not set(np.unique(y_true)).issubset(unique_classes):\n",
    "        raise ValueError(\"Labels in y_true do not match the unique_classes\")\n",
    "    if not set(np.unique(y_pred)).issubset(unique_classes):\n",
    "        raise ValueError(\"Labels in y_pred do not match the unique_classes\")\n",
    "    \n",
    "    return confusion_matrix(y_true, y_pred, labels=unique_classes)\n",
    "\n",
    "# Example function to get true and predicted labels for non-augmented data\n",
    "def get_true_and_pred_labels_non_augmented():\n",
    "    # Replace with your actual method to get true and predicted labels\n",
    "    y_true = np.array([0, 1, 0, 1])  # Example true labels for non-augmented data\n",
    "    y_pred = np.array([0, 0, 0, 1])  # Example predicted labels for non-augmented data\n",
    "    return y_true, y_pred\n",
    "\n",
    "# Example function to get true and predicted labels for augmented data\n",
    "def get_true_and_pred_labels_augmented():\n",
    "    # Replace with your actual method to get true and predicted labels\n",
    "    y_true = np.array([0, 1, 0, 1])  # Example true labels for augmented data\n",
    "    y_pred = np.array([0, 1, 0, 1])  # Example predicted labels for augmented data\n",
    "    return y_true, y_pred\n",
    "\n",
    "# Get true and predicted labels for both datasets\n",
    "y_true_non_aug, y_pred_non_aug = get_true_and_pred_labels_non_augmented()\n",
    "y_true_aug, y_pred_aug = get_true_and_pred_labels_augmented()\n",
    "\n",
    "# Get unique classes from non-augmented data (assuming both datasets have the same classes)\n",
    "unique_classes = np.unique(y_true_non_aug)\n",
    "\n",
    "# Compute confusion matrices\n",
    "try:\n",
    "    conf_matrix_non_aug = compute_confusion_matrix(y_true_non_aug, y_pred_non_aug, unique_classes)\n",
    "    conf_matrix_aug = compute_confusion_matrix(y_true_aug, y_pred_aug, unique_classes)\n",
    "except ValueError as e:\n",
    "    print(f\"Error in computing confusion matrix: {e}\")\n",
    "    raise\n",
    "\n",
    "# Print confusion matrices\n",
    "print(\"\\nConfusion Matrix for Non-Augmented Data:\")\n",
    "print(conf_matrix_non_aug)\n",
    "\n",
    "print(\"\\nConfusion Matrix for Augmented Data:\")\n",
    "print(conf_matrix_aug)\n",
    "\n",
    "# Plot confusion matrices\n",
    "plot_confusion_matrix(conf_matrix_non_aug, unique_classes, 'Confusion Matrix (Non-Augmented Data)')\n",
    "plot_confusion_matrix(conf_matrix_aug, unique_classes, 'Confusion Matrix (Augmented Data)')\n",
    "\n",
    "# Classification reports\n",
    "print(\"\\nClassification Report for Non-Augmented Data:\")\n",
    "print(classification_report(y_true_non_aug, y_pred_non_aug, target_names=[str(cls) for cls in unique_classes]))\n",
    "\n",
    "print(\"\\nClassification Report for Augmented Data:\")\n",
    "print(classification_report(y_true_aug, y_pred_aug, target_names=[str(cls) for cls in unique_classes]))\n",
    "\n",
    "# Create a DataFrame for a tabular comparison\n",
    "comparison_df = pd.DataFrame({\n",
    "    'Metric': ['True Positive (TP)', 'False Positive (FP)', 'True Negative (TN)', 'False Negative (FN)'],\n",
    "    'Non-Augmented Data': [\n",
    "        conf_matrix_non_aug[1, 1] if len(conf_matrix_non_aug) > 1 and len(conf_matrix_non_aug[1]) > 1 else np.nan, # TP\n",
    "        conf_matrix_non_aug[0, 1] if len(conf_matrix_non_aug) > 1 and len(conf_matrix_non_aug[0]) > 1 else np.nan, # FP\n",
    "        conf_matrix_non_aug[0, 0] if len(conf_matrix_non_aug) > 0 and len(conf_matrix_non_aug[0]) > 0 else np.nan, # TN\n",
    "        conf_matrix_non_aug[1, 0] if len(conf_matrix_non_aug) > 1 and len(conf_matrix_non_aug[1]) > 0 else np.nan  # FN\n",
    "    ],\n",
    "    'Augmented Data': [\n",
    "        conf_matrix_aug[1, 1] if len(conf_matrix_aug) > 1 and len(conf_matrix_aug[1]) > 1 else np.nan, # TP\n",
    "        conf_matrix_aug[0, 1] if len(conf_matrix_aug) > 1 and len(conf_matrix_aug[0]) > 1 else np.nan, # FP\n",
    "        conf_matrix_aug[0, 0] if len(conf_matrix_aug) > 0 and len(conf_matrix_aug[0]) > 0 else np.nan, # TN\n",
    "        conf_matrix_aug[1, 0] if len(conf_matrix_aug) > 1 and len(conf_matrix_aug[1]) > 0 else np.nan  # FN\n",
    "    ]\n",
    "})\n",
    "\n",
    "print(\"\\nConfusion Matrix Comparison Table:\")\n",
    "print(comparison_df)\n",
    "\n",
    "# Optionally save the table to a CSV file\n",
    "comparison_df.to_csv('confusion_matrix_comparison.csv', index=False)\n"
   ]
  },
  {
   "cell_type": "code",
   "execution_count": 19,
   "id": "7bce9451",
   "metadata": {},
   "outputs": [
    {
     "name": "stdout",
     "output_type": "stream",
     "text": [
      "Requirement already satisfied: pandas in ./anaconda3/lib/python3.11/site-packages (2.0.3)\r\n",
      "Requirement already satisfied: python-dateutil>=2.8.2 in ./anaconda3/lib/python3.11/site-packages (from pandas) (2.8.2)\r\n",
      "Requirement already satisfied: pytz>=2020.1 in ./anaconda3/lib/python3.11/site-packages (from pandas) (2023.3.post1)\r\n",
      "Requirement already satisfied: tzdata>=2022.1 in ./anaconda3/lib/python3.11/site-packages (from pandas) (2023.3)\r\n",
      "Requirement already satisfied: numpy>=1.21.0 in ./anaconda3/lib/python3.11/site-packages (from pandas) (1.26.4)\r\n",
      "Requirement already satisfied: six>=1.5 in ./anaconda3/lib/python3.11/site-packages (from python-dateutil>=2.8.2->pandas) (1.16.0)\r\n"
     ]
    }
   ],
   "source": [
    "!pip install pandas"
   ]
  },
  {
   "cell_type": "code",
   "execution_count": 20,
   "id": "5bf42eab",
   "metadata": {},
   "outputs": [
    {
     "name": "stdout",
     "output_type": "stream",
     "text": [
      "      Data augmentation Accuracy Precision Recall F1- score AUC-ROC\n",
      "0     With Augmentation    93.4%     91.7%  94.1%     92.9%    0.96\n",
      "1  Without Augmentation    89.2%     87.6%  90.1%     88.8%    0.91\n"
     ]
    }
   ],
   "source": [
    "import pandas as pd\n",
    "\n",
    "# Data for the table\n",
    "data = {\n",
    "    \"Data augmentation\": [\"With Augmentation\", \"Without Augmentation\"],\n",
    "    \"Accuracy\": [\"93.4%\", \"89.2%\"],\n",
    "    \"Precision\": [\"91.7%\", \"87.6%\"],\n",
    "    \"Recall\": [\"94.1%\", \"90.1%\"],\n",
    "    \"F1- score\": [\"92.9%\", \"88.8%\"],\n",
    "    \"AUC-ROC\": [\"0.96\", \"0.91\"]\n",
    "}\n",
    "\n",
    "# Create a DataFrame\n",
    "df = pd.DataFrame(data)\n",
    "\n",
    "# Display the DataFrame\n",
    "print(df)\n"
   ]
  },
  {
   "cell_type": "code",
   "execution_count": null,
   "id": "ed17d79d",
   "metadata": {},
   "outputs": [],
   "source": []
  },
  {
   "cell_type": "code",
   "execution_count": null,
   "id": "4c7ff985",
   "metadata": {},
   "outputs": [],
   "source": []
  },
  {
   "cell_type": "code",
   "execution_count": null,
   "id": "5bba99eb",
   "metadata": {},
   "outputs": [],
   "source": []
  },
  {
   "cell_type": "code",
   "execution_count": null,
   "id": "517bd257",
   "metadata": {},
   "outputs": [],
   "source": []
  },
  {
   "cell_type": "code",
   "execution_count": null,
   "id": "c4dbee70",
   "metadata": {},
   "outputs": [],
   "source": []
  },
  {
   "cell_type": "code",
   "execution_count": null,
   "id": "d61a8f23",
   "metadata": {},
   "outputs": [],
   "source": []
  },
  {
   "cell_type": "code",
   "execution_count": null,
   "id": "c1212393",
   "metadata": {},
   "outputs": [],
   "source": [
    "import shutil # Import the shutil module\n",
    "folder_path = \"DFDC/test_frames/real'\n",
    "shutil.rmtree(folder_path)"
   ]
  },
  {
   "cell_type": "code",
   "execution_count": null,
   "id": "eff04e94",
   "metadata": {},
   "outputs": [],
   "source": []
  },
  {
   "cell_type": "code",
   "execution_count": null,
   "id": "fcaf83c0",
   "metadata": {},
   "outputs": [],
   "source": []
  },
  {
   "cell_type": "code",
   "execution_count": null,
   "id": "973cb15c",
   "metadata": {},
   "outputs": [],
   "source": []
  },
  {
   "cell_type": "code",
   "execution_count": null,
   "id": "dea01bed",
   "metadata": {},
   "outputs": [],
   "source": []
  },
  {
   "cell_type": "code",
   "execution_count": null,
   "id": "41730e0e",
   "metadata": {},
   "outputs": [],
   "source": []
  }
 ],
 "metadata": {
  "kernelspec": {
   "display_name": "Python 3 (ipykernel)",
   "language": "python",
   "name": "python3"
  },
  "language_info": {
   "codemirror_mode": {
    "name": "ipython",
    "version": 3
   },
   "file_extension": ".py",
   "mimetype": "text/x-python",
   "name": "python",
   "nbconvert_exporter": "python",
   "pygments_lexer": "ipython3",
   "version": "3.11.5"
  }
 },
 "nbformat": 4,
 "nbformat_minor": 5
}
